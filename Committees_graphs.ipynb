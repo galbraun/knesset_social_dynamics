{
 "cells": [
  {
   "cell_type": "code",
   "execution_count": 1,
   "metadata": {},
   "outputs": [],
   "source": [
    "%matplotlib inline"
   ]
  },
  {
   "cell_type": "code",
   "execution_count": 2,
   "metadata": {},
   "outputs": [],
   "source": [
    "from knesset_social_dynamics.parsers import commitees, graphs\n",
    "import pathlib\n",
    "import matplotlib.pyplot as plt\n",
    "import random\n",
    "import networkx as nx\n",
    "import pandas as pd"
   ]
  },
  {
   "cell_type": "markdown",
   "metadata": {},
   "source": [
    "# Extract full names of knesset members"
   ]
  },
  {
   "cell_type": "code",
   "execution_count": 3,
   "metadata": {},
   "outputs": [],
   "source": [
    "km_df = pd.read_csv('data/knesset_members_metadata.csv')"
   ]
  },
  {
   "cell_type": "code",
   "execution_count": 4,
   "metadata": {},
   "outputs": [],
   "source": [
    "km_full_names = []\n",
    "for first, last in zip(km_df['FirstName'].values, km_df['LastName']):\n",
    "    km_full_names.append(\" \".join([first, last]))"
   ]
  },
  {
   "cell_type": "code",
   "execution_count": 5,
   "metadata": {},
   "outputs": [],
   "source": [
    "km_df['FullName'] = km_df.apply(lambda x: \" \".join([x.FirstName, x.LastName]),axis=1)\n",
    "km_df.set_index('FullName', inplace=True)"
   ]
  },
  {
   "cell_type": "markdown",
   "metadata": {},
   "source": [
    "# Load all of חוץ ובטחון"
   ]
  },
  {
   "cell_type": "code",
   "execution_count": 6,
   "metadata": {},
   "outputs": [],
   "source": [
    "committees_protocols_folder =  pathlib.Path('data/ועדות לפי נושאים/ועדת החוץ והביטחון')"
   ]
  },
  {
   "cell_type": "code",
   "execution_count": 7,
   "metadata": {},
   "outputs": [
    {
     "name": "stderr",
     "output_type": "stream",
     "text": [
      "2020-07-29 11:31:27.175 | DEBUG    | knesset_social_dynamics.parsers.text_extractor:extract_new_raw_protocol:15 - Parsing new-version protocoal\n",
      "2020-07-29 11:31:27.207 | DEBUG    | knesset_social_dynamics.parsers.text_extractor:extract_new_raw_protocol:15 - Parsing new-version protocoal\n",
      "2020-07-29 11:31:27.230 | DEBUG    | knesset_social_dynamics.parsers.text_extractor:extract_new_raw_protocol:15 - Parsing new-version protocoal\n",
      "2020-07-29 11:31:27.482 | DEBUG    | knesset_social_dynamics.parsers.text_extractor:extract_new_raw_protocol:15 - Parsing new-version protocoal\n",
      "2020-07-29 11:31:27.677 | DEBUG    | knesset_social_dynamics.parsers.text_extractor:extract_new_raw_protocol:15 - Parsing new-version protocoal\n",
      "2020-07-29 11:31:27.692 | DEBUG    | knesset_social_dynamics.parsers.text_extractor:extract_new_raw_protocol:15 - Parsing new-version protocoal\n",
      "2020-07-29 11:31:27.810 | DEBUG    | knesset_social_dynamics.parsers.text_extractor:extract_new_raw_protocol:15 - Parsing new-version protocoal\n",
      "2020-07-29 11:31:28.006 | DEBUG    | knesset_social_dynamics.parsers.text_extractor:extract_new_raw_protocol:15 - Parsing new-version protocoal\n",
      "2020-07-29 11:31:28.257 | DEBUG    | knesset_social_dynamics.parsers.text_extractor:extract_new_raw_protocol:15 - Parsing new-version protocoal\n",
      "2020-07-29 11:31:28.339 | DEBUG    | knesset_social_dynamics.parsers.text_extractor:extract_new_raw_protocol:15 - Parsing new-version protocoal\n"
     ]
    }
   ],
   "source": [
    "transcripts = []\n",
    "for prot in committees_protocols_folder.glob('*'):\n",
    "    transcripts.append(commitees.extract_committee_new_transcript(prot))"
   ]
  },
  {
   "cell_type": "code",
   "execution_count": 8,
   "metadata": {},
   "outputs": [],
   "source": [
    "transcripts_df = pd.concat(transcripts, ignore_index=True)"
   ]
  },
  {
   "cell_type": "code",
   "execution_count": 9,
   "metadata": {},
   "outputs": [
    {
     "data": {
      "text/html": [
       "<div>\n",
       "<style scoped>\n",
       "    .dataframe tbody tr th:only-of-type {\n",
       "        vertical-align: middle;\n",
       "    }\n",
       "\n",
       "    .dataframe tbody tr th {\n",
       "        vertical-align: top;\n",
       "    }\n",
       "\n",
       "    .dataframe thead th {\n",
       "        text-align: right;\n",
       "    }\n",
       "</style>\n",
       "<table border=\"1\" class=\"dataframe\">\n",
       "  <thead>\n",
       "    <tr style=\"text-align: right;\">\n",
       "      <th></th>\n",
       "      <th>interaction</th>\n",
       "      <th>speaker_name</th>\n",
       "      <th>speaker_party</th>\n",
       "      <th>subject</th>\n",
       "      <th>text</th>\n",
       "    </tr>\n",
       "  </thead>\n",
       "  <tbody>\n",
       "    <tr>\n",
       "      <th>0</th>\n",
       "      <td>&lt;&lt; יור &gt;&gt;</td>\n",
       "      <td>צבי האוזר</td>\n",
       "      <td>יו\"ר</td>\n",
       "      <td></td>\n",
       "      <td>שלום לכולם. אני מבקש לפתוח את הישיבה. אנחנו בד...</td>\n",
       "    </tr>\n",
       "    <tr>\n",
       "      <th>1</th>\n",
       "      <td>&lt;&lt; יור &gt;&gt;</td>\n",
       "      <td>צבי האוזר</td>\n",
       "      <td>יו\"ר</td>\n",
       "      <td></td>\n",
       "      <td>רז נזרי נמצא אתנו? עדיין לא. כי אני מבין שמתקי...</td>\n",
       "    </tr>\n",
       "    <tr>\n",
       "      <th>2</th>\n",
       "      <td>&lt;&lt; דובר &gt;&gt;</td>\n",
       "      <td>איילת לוי נחום</td>\n",
       "      <td>איילת לוי נחום</td>\n",
       "      <td></td>\n",
       "      <td>\\tביום 26.5.2020 החליטה הממשלה לאשר את בקשת וע...</td>\n",
       "    </tr>\n",
       "    <tr>\n",
       "      <th>3</th>\n",
       "      <td>&lt;&lt; דובר &gt;&gt;</td>\n",
       "      <td>איילת לוי נחום</td>\n",
       "      <td>איילת לוי נחום</td>\n",
       "      <td></td>\n",
       "      <td>\\tהממשלה דנה היום בהצעת החוק והחליטה לקיים עלי...</td>\n",
       "    </tr>\n",
       "    <tr>\n",
       "      <th>4</th>\n",
       "      <td>&lt;&lt; דובר &gt;&gt;</td>\n",
       "      <td>איילת לוי נחום</td>\n",
       "      <td>איילת לוי נחום</td>\n",
       "      <td></td>\n",
       "      <td>\\tבנסיבות העניין מבקשת הממשלה להאריך ב-48 שעות...</td>\n",
       "    </tr>\n",
       "    <tr>\n",
       "      <th>...</th>\n",
       "      <td>...</td>\n",
       "      <td>...</td>\n",
       "      <td>...</td>\n",
       "      <td>...</td>\n",
       "      <td>...</td>\n",
       "    </tr>\n",
       "    <tr>\n",
       "      <th>6584</th>\n",
       "      <td>&lt;&lt; יור &gt;&gt;</td>\n",
       "      <td>צבי האוזר</td>\n",
       "      <td>יו\"ר</td>\n",
       "      <td>הצעת חוק הסמכת שירות הביטחון הכללי לסייע במאמ...</td>\n",
       "      <td>14:45 חברים. תוציאי הודעה – 14:45.</td>\n",
       "    </tr>\n",
       "    <tr>\n",
       "      <th>6585</th>\n",
       "      <td>&lt;&lt; יור &gt;&gt;</td>\n",
       "      <td>צבי האוזר</td>\n",
       "      <td>יו\"ר</td>\n",
       "      <td>הצעת חוק הסמכת שירות הביטחון הכללי לסייע במאמ...</td>\n",
       "      <td>אני רוצה לפתוח את הישיבה. אני מבקש להעמיד להצב...</td>\n",
       "    </tr>\n",
       "    <tr>\n",
       "      <th>6586</th>\n",
       "      <td>&lt;&lt; יור &gt;&gt;</td>\n",
       "      <td>צבי האוזר</td>\n",
       "      <td>יו\"ר</td>\n",
       "      <td>הצעת חוק הסמכת שירות הביטחון הכללי לסייע במאמ...</td>\n",
       "      <td>הצבעה</td>\n",
       "    </tr>\n",
       "    <tr>\n",
       "      <th>6587</th>\n",
       "      <td>&lt;&lt; יור &gt;&gt;</td>\n",
       "      <td>צבי האוזר</td>\n",
       "      <td>יו\"ר</td>\n",
       "      <td>הצעת חוק הסמכת שירות הביטחון הכללי לסייע במאמ...</td>\n",
       "      <td>ההסתייגות נדחתה.</td>\n",
       "    </tr>\n",
       "    <tr>\n",
       "      <th>6588</th>\n",
       "      <td>&lt;&lt; יור &gt;&gt;</td>\n",
       "      <td>צבי האוזר</td>\n",
       "      <td>יו\"ר</td>\n",
       "      <td>הצעת חוק הסמכת שירות הביטחון הכללי לסייע במאמ...</td>\n",
       "      <td>נדחה. הצעת החוק תעלה לקריאה שנייה ושלישית כשיח...</td>\n",
       "    </tr>\n",
       "  </tbody>\n",
       "</table>\n",
       "<p>6589 rows × 5 columns</p>\n",
       "</div>"
      ],
      "text/plain": [
       "     interaction    speaker_name   speaker_party  \\\n",
       "0      << יור >>       צבי האוזר            יו\"ר   \n",
       "1      << יור >>       צבי האוזר            יו\"ר   \n",
       "2     << דובר >>  איילת לוי נחום  איילת לוי נחום   \n",
       "3     << דובר >>  איילת לוי נחום  איילת לוי נחום   \n",
       "4     << דובר >>  איילת לוי נחום  איילת לוי נחום   \n",
       "...          ...             ...             ...   \n",
       "6584   << יור >>       צבי האוזר            יו\"ר   \n",
       "6585   << יור >>       צבי האוזר            יו\"ר   \n",
       "6586   << יור >>       צבי האוזר            יו\"ר   \n",
       "6587   << יור >>       צבי האוזר            יו\"ר   \n",
       "6588   << יור >>       צבי האוזר            יו\"ר   \n",
       "\n",
       "                                                subject  \\\n",
       "0                                                         \n",
       "1                                                         \n",
       "2                                                         \n",
       "3                                                         \n",
       "4                                                         \n",
       "...                                                 ...   \n",
       "6584   הצעת חוק הסמכת שירות הביטחון הכללי לסייע במאמ...   \n",
       "6585   הצעת חוק הסמכת שירות הביטחון הכללי לסייע במאמ...   \n",
       "6586   הצעת חוק הסמכת שירות הביטחון הכללי לסייע במאמ...   \n",
       "6587   הצעת חוק הסמכת שירות הביטחון הכללי לסייע במאמ...   \n",
       "6588   הצעת חוק הסמכת שירות הביטחון הכללי לסייע במאמ...   \n",
       "\n",
       "                                                   text  \n",
       "0     שלום לכולם. אני מבקש לפתוח את הישיבה. אנחנו בד...  \n",
       "1     רז נזרי נמצא אתנו? עדיין לא. כי אני מבין שמתקי...  \n",
       "2     \\tביום 26.5.2020 החליטה הממשלה לאשר את בקשת וע...  \n",
       "3     \\tהממשלה דנה היום בהצעת החוק והחליטה לקיים עלי...  \n",
       "4     \\tבנסיבות העניין מבקשת הממשלה להאריך ב-48 שעות...  \n",
       "...                                                 ...  \n",
       "6584                14:45 חברים. תוציאי הודעה – 14:45.   \n",
       "6585  אני רוצה לפתוח את הישיבה. אני מבקש להעמיד להצב...  \n",
       "6586                                              הצבעה  \n",
       "6587                                  ההסתייגות נדחתה.   \n",
       "6588  נדחה. הצעת החוק תעלה לקריאה שנייה ושלישית כשיח...  \n",
       "\n",
       "[6589 rows x 5 columns]"
      ]
     },
     "execution_count": 9,
     "metadata": {},
     "output_type": "execute_result"
    }
   ],
   "source": [
    "transcripts_df"
   ]
  },
  {
   "cell_type": "markdown",
   "metadata": {},
   "source": [
    "# Build interrupt network"
   ]
  },
  {
   "cell_type": "code",
   "execution_count": 10,
   "metadata": {},
   "outputs": [],
   "source": [
    "inter_graph = graphs.extract_transcript_graph(transcripts_df, g_type='committee_breaking')"
   ]
  },
  {
   "cell_type": "code",
   "execution_count": 11,
   "metadata": {},
   "outputs": [
    {
     "data": {
      "image/png": "[encoded data removed]",
      "text/plain": [
       "<Figure size 432x288 with 1 Axes>"
      ]
     },
     "metadata": {},
     "output_type": "display_data"
    }
   ],
   "source": [
    "nx.draw(inter_graph)"
   ]
  },
  {
   "cell_type": "markdown",
   "metadata": {},
   "source": [
    "# Remove non knesset members "
   ]
  },
  {
   "cell_type": "code",
   "execution_count": 12,
   "metadata": {},
   "outputs": [],
   "source": [
    "nodes = dict(inter_graph.nodes())\n",
    "for node in nodes:\n",
    "    if (str(node)) not in km_full_names:\n",
    "        inter_graph.remove_node(node)"
   ]
  },
  {
   "cell_type": "code",
   "execution_count": 13,
   "metadata": {},
   "outputs": [
    {
     "data": {
      "image/png": "[encoded data removed]",
      "text/plain": [
       "<Figure size 432x288 with 1 Axes>"
      ]
     },
     "metadata": {},
     "output_type": "display_data"
    }
   ],
   "source": [
    "nx.draw(inter_graph)"
   ]
  },
  {
   "cell_type": "code",
   "execution_count": 14,
   "metadata": {},
   "outputs": [],
   "source": [
    "graphs.extract_adjacency_matrix(inter_graph, 'data/adjacency_matrixes/hutz_bitahon_adj.csv')"
   ]
  },
  {
   "cell_type": "code",
   "execution_count": 15,
   "metadata": {},
   "outputs": [],
   "source": [
    "graphs.extract_features_matrix(inter_graph, 'data/feature_matrixes/hutz_bitahon_feat.csv')"
   ]
  },
  {
   "cell_type": "markdown",
   "metadata": {},
   "source": [
    "# Load all of ועדת הכספים"
   ]
  },
  {
   "cell_type": "code",
   "execution_count": 16,
   "metadata": {},
   "outputs": [],
   "source": [
    "committees_protocols_folder =  pathlib.Path('data/ועדות לפי נושאים/ועדת הכספים')"
   ]
  },
  {
   "cell_type": "code",
   "execution_count": 17,
   "metadata": {},
   "outputs": [
    {
     "name": "stderr",
     "output_type": "stream",
     "text": [
      "2020-07-29 11:32:10.360 | DEBUG    | knesset_social_dynamics.parsers.text_extractor:extract_new_raw_protocol:15 - Parsing new-version protocoal\n",
      "2020-07-29 11:32:10.371 | DEBUG    | knesset_social_dynamics.parsers.text_extractor:extract_new_raw_protocol:15 - Parsing new-version protocoal\n",
      "2020-07-29 11:32:10.427 | DEBUG    | knesset_social_dynamics.parsers.text_extractor:extract_new_raw_protocol:15 - Parsing new-version protocoal\n",
      "2020-07-29 11:32:10.475 | DEBUG    | knesset_social_dynamics.parsers.text_extractor:extract_new_raw_protocol:15 - Parsing new-version protocoal\n",
      "2020-07-29 11:32:10.546 | DEBUG    | knesset_social_dynamics.parsers.text_extractor:extract_new_raw_protocol:15 - Parsing new-version protocoal\n",
      "2020-07-29 11:32:10.574 | DEBUG    | knesset_social_dynamics.parsers.text_extractor:extract_new_raw_protocol:15 - Parsing new-version protocoal\n",
      "2020-07-29 11:32:10.620 | DEBUG    | knesset_social_dynamics.parsers.text_extractor:extract_new_raw_protocol:15 - Parsing new-version protocoal\n",
      "2020-07-29 11:32:10.669 | DEBUG    | knesset_social_dynamics.parsers.text_extractor:extract_new_raw_protocol:15 - Parsing new-version protocoal\n",
      "2020-07-29 11:32:10.784 | DEBUG    | knesset_social_dynamics.parsers.text_extractor:extract_new_raw_protocol:15 - Parsing new-version protocoal\n",
      "2020-07-29 11:32:10.932 | DEBUG    | knesset_social_dynamics.parsers.text_extractor:extract_new_raw_protocol:15 - Parsing new-version protocoal\n"
     ]
    }
   ],
   "source": [
    "transcripts = []\n",
    "for prot in committees_protocols_folder.glob('*'):\n",
    "    transcripts.append(commitees.extract_committee_new_transcript(prot))"
   ]
  },
  {
   "cell_type": "code",
   "execution_count": 18,
   "metadata": {},
   "outputs": [],
   "source": [
    "transcripts_df = pd.concat(transcripts, ignore_index=True)"
   ]
  },
  {
   "cell_type": "code",
   "execution_count": 19,
   "metadata": {},
   "outputs": [
    {
     "data": {
      "text/html": [
       "<div>\n",
       "<style scoped>\n",
       "    .dataframe tbody tr th:only-of-type {\n",
       "        vertical-align: middle;\n",
       "    }\n",
       "\n",
       "    .dataframe tbody tr th {\n",
       "        vertical-align: top;\n",
       "    }\n",
       "\n",
       "    .dataframe thead th {\n",
       "        text-align: right;\n",
       "    }\n",
       "</style>\n",
       "<table border=\"1\" class=\"dataframe\">\n",
       "  <thead>\n",
       "    <tr style=\"text-align: right;\">\n",
       "      <th></th>\n",
       "      <th>interaction</th>\n",
       "      <th>speaker_name</th>\n",
       "      <th>speaker_party</th>\n",
       "      <th>subject</th>\n",
       "      <th>text</th>\n",
       "    </tr>\n",
       "  </thead>\n",
       "  <tbody>\n",
       "    <tr>\n",
       "      <th>0</th>\n",
       "      <td>&lt;&lt; יור &gt;&gt;</td>\n",
       "      <td>משה גפני</td>\n",
       "      <td>יו\"ר</td>\n",
       "      <td>הצעת תקנות מס ערך מוסף (הוראת שעה), התש\"ף-202...</td>\n",
       "      <td>אני פותח את הישיבה. בבקשה, גיא.</td>\n",
       "    </tr>\n",
       "    <tr>\n",
       "      <th>1</th>\n",
       "      <td>&lt;&lt; דובר &gt;&gt;</td>\n",
       "      <td>גיא גולדמן</td>\n",
       "      <td>גיא גולדמן</td>\n",
       "      <td>הצעת תקנות מס ערך מוסף (הוראת שעה), התש\"ף-202...</td>\n",
       "      <td>מענקים נחשבים כחלק ממחיר עסקאותיו של עוסק, ולכ...</td>\n",
       "    </tr>\n",
       "    <tr>\n",
       "      <th>2</th>\n",
       "      <td>&lt;&lt; יור &gt;&gt;</td>\n",
       "      <td>משה גפני</td>\n",
       "      <td>יו\"ר</td>\n",
       "      <td>הצעת תקנות מס ערך מוסף (הוראת שעה), התש\"ף-202...</td>\n",
       "      <td>שאלות?</td>\n",
       "    </tr>\n",
       "    <tr>\n",
       "      <th>3</th>\n",
       "      <td>&lt;&lt; דובר &gt;&gt;</td>\n",
       "      <td>מיקי לוי</td>\n",
       "      <td>יש עתיד-תל\"ם</td>\n",
       "      <td>הצעת תקנות מס ערך מוסף (הוראת שעה), התש\"ף-202...</td>\n",
       "      <td>זה טוב. סוף-סוף הביאו משהו טוב.</td>\n",
       "    </tr>\n",
       "    <tr>\n",
       "      <th>4</th>\n",
       "      <td>&lt;&lt; יור &gt;&gt;</td>\n",
       "      <td>משה גפני</td>\n",
       "      <td>יו\"ר</td>\n",
       "      <td>הצעת תקנות מס ערך מוסף (הוראת שעה), התש\"ף-202...</td>\n",
       "      <td>הביאו כמה דברים טובים. זה אחד מהם. הביאו כמה ד...</td>\n",
       "    </tr>\n",
       "    <tr>\n",
       "      <th>...</th>\n",
       "      <td>...</td>\n",
       "      <td>...</td>\n",
       "      <td>...</td>\n",
       "      <td>...</td>\n",
       "      <td>...</td>\n",
       "    </tr>\n",
       "    <tr>\n",
       "      <th>3528</th>\n",
       "      <td>&lt;&lt; דובר &gt;&gt;</td>\n",
       "      <td>יולי יואל אדלשטיין</td>\n",
       "      <td>שר הבריאות יולי יואל אדלשטיין</td>\n",
       "      <td>פרידה ממנכ\"ל הכנסת היוצא, מר אלברט סחרוביץ</td>\n",
       "      <td>הוא מצא בשבילי 19 שנים.</td>\n",
       "    </tr>\n",
       "    <tr>\n",
       "      <th>3529</th>\n",
       "      <td>&lt;&lt; יור &gt;&gt;</td>\n",
       "      <td>משה גפני</td>\n",
       "      <td>יו\"ר</td>\n",
       "      <td>פרידה ממנכ\"ל הכנסת היוצא, מר אלברט סחרוביץ</td>\n",
       "      <td>הרי שכנעת אותנו שנצביע בעדו.</td>\n",
       "    </tr>\n",
       "    <tr>\n",
       "      <th>3530</th>\n",
       "      <td>&lt;&lt; דובר_המשך &gt;&gt;</td>\n",
       "      <td>יולי יואל אדלשטיין</td>\n",
       "      <td>שר הבריאות יולי יואל אדלשטיין</td>\n",
       "      <td>פרידה ממנכ\"ל הכנסת היוצא, מר אלברט סחרוביץ</td>\n",
       "      <td>נכון, ידעתי מה אני עושה.</td>\n",
       "    </tr>\n",
       "    <tr>\n",
       "      <th>3531</th>\n",
       "      <td>&lt;&lt; יור &gt;&gt;</td>\n",
       "      <td>משה גפני</td>\n",
       "      <td>יו\"ר</td>\n",
       "      <td>פרידה ממנכ\"ל הכנסת היוצא, מר אלברט סחרוביץ</td>\n",
       "      <td>אני מודה לחברים שהיו. תודה רבה ושיהיה בהצלחה.</td>\n",
       "    </tr>\n",
       "    <tr>\n",
       "      <th>3532</th>\n",
       "      <td>&lt;&lt; יור &gt;&gt;</td>\n",
       "      <td>משה גפני</td>\n",
       "      <td>יו\"ר</td>\n",
       "      <td>פרידה ממנכ\"ל הכנסת היוצא, מר אלברט סחרוביץ</td>\n",
       "      <td>אני עכשיו מודיע על הפסקה של חמש דקות. תודה רבה.</td>\n",
       "    </tr>\n",
       "  </tbody>\n",
       "</table>\n",
       "<p>3533 rows × 5 columns</p>\n",
       "</div>"
      ],
      "text/plain": [
       "          interaction         speaker_name                  speaker_party  \\\n",
       "0           << יור >>             משה גפני                           יו\"ר   \n",
       "1          << דובר >>           גיא גולדמן                     גיא גולדמן   \n",
       "2           << יור >>             משה גפני                           יו\"ר   \n",
       "3          << דובר >>             מיקי לוי                   יש עתיד-תל\"ם   \n",
       "4           << יור >>             משה גפני                           יו\"ר   \n",
       "...               ...                  ...                            ...   \n",
       "3528       << דובר >>   יולי יואל אדלשטיין  שר הבריאות יולי יואל אדלשטיין   \n",
       "3529        << יור >>             משה גפני                           יו\"ר   \n",
       "3530  << דובר_המשך >>   יולי יואל אדלשטיין  שר הבריאות יולי יואל אדלשטיין   \n",
       "3531        << יור >>             משה גפני                           יו\"ר   \n",
       "3532        << יור >>             משה גפני                           יו\"ר   \n",
       "\n",
       "                                                subject  \\\n",
       "0      הצעת תקנות מס ערך מוסף (הוראת שעה), התש\"ף-202...   \n",
       "1      הצעת תקנות מס ערך מוסף (הוראת שעה), התש\"ף-202...   \n",
       "2      הצעת תקנות מס ערך מוסף (הוראת שעה), התש\"ף-202...   \n",
       "3      הצעת תקנות מס ערך מוסף (הוראת שעה), התש\"ף-202...   \n",
       "4      הצעת תקנות מס ערך מוסף (הוראת שעה), התש\"ף-202...   \n",
       "...                                                 ...   \n",
       "3528        פרידה ממנכ\"ל הכנסת היוצא, מר אלברט סחרוביץ    \n",
       "3529        פרידה ממנכ\"ל הכנסת היוצא, מר אלברט סחרוביץ    \n",
       "3530        פרידה ממנכ\"ל הכנסת היוצא, מר אלברט סחרוביץ    \n",
       "3531        פרידה ממנכ\"ל הכנסת היוצא, מר אלברט סחרוביץ    \n",
       "3532        פרידה ממנכ\"ל הכנסת היוצא, מר אלברט סחרוביץ    \n",
       "\n",
       "                                                   text  \n",
       "0                       אני פותח את הישיבה. בבקשה, גיא.  \n",
       "1     מענקים נחשבים כחלק ממחיר עסקאותיו של עוסק, ולכ...  \n",
       "2                                                שאלות?  \n",
       "3                       זה טוב. סוף-סוף הביאו משהו טוב.  \n",
       "4     הביאו כמה דברים טובים. זה אחד מהם. הביאו כמה ד...  \n",
       "...                                                 ...  \n",
       "3528                           הוא מצא בשבילי 19 שנים.   \n",
       "3529                      הרי שכנעת אותנו שנצביע בעדו.   \n",
       "3530                          נכון, ידעתי מה אני עושה.   \n",
       "3531     אני מודה לחברים שהיו. תודה רבה ושיהיה בהצלחה.   \n",
       "3532   אני עכשיו מודיע על הפסקה של חמש דקות. תודה רבה.   \n",
       "\n",
       "[3533 rows x 5 columns]"
      ]
     },
     "execution_count": 19,
     "metadata": {},
     "output_type": "execute_result"
    }
   ],
   "source": [
    "transcripts_df"
   ]
  },
  {
   "cell_type": "markdown",
   "metadata": {},
   "source": [
    "# Build interrupt network"
   ]
  },
  {
   "cell_type": "code",
   "execution_count": 20,
   "metadata": {},
   "outputs": [],
   "source": [
    "inter_graph = graphs.extract_transcript_graph(transcripts_df, g_type='committee_breaking')"
   ]
  },
  {
   "cell_type": "code",
   "execution_count": 21,
   "metadata": {},
   "outputs": [
    {
     "data": {
      "image/png": "[encoded data removed]",
      "text/plain": [
       "<Figure size 432x288 with 1 Axes>"
      ]
     },
     "metadata": {},
     "output_type": "display_data"
    }
   ],
   "source": [
    "nx.draw(inter_graph)"
   ]
  },
  {
   "cell_type": "markdown",
   "metadata": {},
   "source": [
    "# Remove non knesset members "
   ]
  },
  {
   "cell_type": "code",
   "execution_count": 22,
   "metadata": {},
   "outputs": [],
   "source": [
    "nodes = dict(inter_graph.nodes())\n",
    "for node in nodes:\n",
    "    if (str(node)) not in km_full_names:\n",
    "        inter_graph.remove_node(node)\n"
   ]
  },
  {
   "cell_type": "code",
   "execution_count": 23,
   "metadata": {},
   "outputs": [
    {
     "data": {
      "image/png": "[encoded data removed]",
      "text/plain": [
       "<Figure size 432x288 with 1 Axes>"
      ]
     },
     "metadata": {},
     "output_type": "display_data"
    }
   ],
   "source": [
    "nx.draw(inter_graph)"
   ]
  },
  {
   "cell_type": "code",
   "execution_count": 24,
   "metadata": {},
   "outputs": [],
   "source": [
    "graphs.extract_adjacency_matrix(inter_graph, 'data/adjacency_matrixes/ksafim_adj.csv')"
   ]
  },
  {
   "cell_type": "code",
   "execution_count": 25,
   "metadata": {},
   "outputs": [],
   "source": [
    "graphs.extract_features_matrix(inter_graph, 'data/feature_matrixes/ksafim_feat.csv')"
   ]
  },
  {
   "cell_type": "markdown",
   "metadata": {},
   "source": [
    "# Load all of ועדת החוקה, חוק ומשפט"
   ]
  },
  {
   "cell_type": "code",
   "execution_count": 26,
   "metadata": {},
   "outputs": [],
   "source": [
    "committees_protocols_folder =  pathlib.Path('data/ועדות לפי נושאים/ועדת החוקה, חוק ומשפט')"
   ]
  },
  {
   "cell_type": "code",
   "execution_count": 27,
   "metadata": {},
   "outputs": [
    {
     "name": "stderr",
     "output_type": "stream",
     "text": [
      "2020-07-29 11:32:17.762 | DEBUG    | knesset_social_dynamics.parsers.text_extractor:extract_new_raw_protocol:15 - Parsing new-version protocoal\n",
      "2020-07-29 11:32:17.845 | DEBUG    | knesset_social_dynamics.parsers.text_extractor:extract_new_raw_protocol:15 - Parsing new-version protocoal\n",
      "2020-07-29 11:32:18.163 | DEBUG    | knesset_social_dynamics.parsers.text_extractor:extract_new_raw_protocol:15 - Parsing new-version protocoal\n",
      "2020-07-29 11:32:18.257 | DEBUG    | knesset_social_dynamics.parsers.text_extractor:extract_new_raw_protocol:15 - Parsing new-version protocoal\n",
      "2020-07-29 11:32:18.446 | DEBUG    | knesset_social_dynamics.parsers.text_extractor:extract_new_raw_protocol:15 - Parsing new-version protocoal\n",
      "2020-07-29 11:32:18.510 | DEBUG    | knesset_social_dynamics.parsers.text_extractor:extract_new_raw_protocol:15 - Parsing new-version protocoal\n",
      "2020-07-29 11:32:18.590 | DEBUG    | knesset_social_dynamics.parsers.text_extractor:extract_new_raw_protocol:15 - Parsing new-version protocoal\n",
      "2020-07-29 11:32:18.659 | DEBUG    | knesset_social_dynamics.parsers.text_extractor:extract_new_raw_protocol:15 - Parsing new-version protocoal\n",
      "2020-07-29 11:32:18.719 | DEBUG    | knesset_social_dynamics.parsers.text_extractor:extract_new_raw_protocol:15 - Parsing new-version protocoal\n",
      "2020-07-29 11:32:18.735 | DEBUG    | knesset_social_dynamics.parsers.text_extractor:extract_new_raw_protocol:15 - Parsing new-version protocoal\n"
     ]
    }
   ],
   "source": [
    "transcripts = []\n",
    "for prot in committees_protocols_folder.glob('*'):\n",
    "    transcripts.append(commitees.extract_committee_new_transcript(prot))"
   ]
  },
  {
   "cell_type": "code",
   "execution_count": 28,
   "metadata": {},
   "outputs": [],
   "source": [
    "transcripts_df = pd.concat(transcripts, ignore_index=True)"
   ]
  },
  {
   "cell_type": "code",
   "execution_count": 29,
   "metadata": {},
   "outputs": [
    {
     "data": {
      "text/html": [
       "<div>\n",
       "<style scoped>\n",
       "    .dataframe tbody tr th:only-of-type {\n",
       "        vertical-align: middle;\n",
       "    }\n",
       "\n",
       "    .dataframe tbody tr th {\n",
       "        vertical-align: top;\n",
       "    }\n",
       "\n",
       "    .dataframe thead th {\n",
       "        text-align: right;\n",
       "    }\n",
       "</style>\n",
       "<table border=\"1\" class=\"dataframe\">\n",
       "  <thead>\n",
       "    <tr style=\"text-align: right;\">\n",
       "      <th></th>\n",
       "      <th>interaction</th>\n",
       "      <th>speaker_name</th>\n",
       "      <th>speaker_party</th>\n",
       "      <th>subject</th>\n",
       "      <th>text</th>\n",
       "    </tr>\n",
       "  </thead>\n",
       "  <tbody>\n",
       "    <tr>\n",
       "      <th>0</th>\n",
       "      <td>&lt;&lt; יור &gt;&gt;</td>\n",
       "      <td>יעקב אשר</td>\n",
       "      <td>יו\"ר</td>\n",
       "      <td>הצעת חוק לתיקון ולקיום תוקפן של תקנות שעת חיר...</td>\n",
       "      <td>בוקר טוב, אני מתכבד לפתוח את הישיבה. חברי הווע...</td>\n",
       "    </tr>\n",
       "    <tr>\n",
       "      <th>1</th>\n",
       "      <td>&lt;&lt; יור &gt;&gt;</td>\n",
       "      <td>יעקב אשר</td>\n",
       "      <td>יו\"ר</td>\n",
       "      <td>הצעת חוק לתיקון ולקיום תוקפן של תקנות שעת חיר...</td>\n",
       "      <td>אני רוצה להקדים ולומר: יש דברים שאני מתכוון לע...</td>\n",
       "    </tr>\n",
       "    <tr>\n",
       "      <th>2</th>\n",
       "      <td>&lt;&lt; יור &gt;&gt;</td>\n",
       "      <td>יעקב אשר</td>\n",
       "      <td>יו\"ר</td>\n",
       "      <td>הצעת חוק לתיקון ולקיום תוקפן של תקנות שעת חיר...</td>\n",
       "      <td>מה אני כן חושב שצריך להיות, זה באמת הגברה של י...</td>\n",
       "    </tr>\n",
       "    <tr>\n",
       "      <th>3</th>\n",
       "      <td>&lt;&lt; יור &gt;&gt;</td>\n",
       "      <td>יעקב אשר</td>\n",
       "      <td>יו\"ר</td>\n",
       "      <td>הצעת חוק לתיקון ולקיום תוקפן של תקנות שעת חיר...</td>\n",
       "      <td>אחרי שאמרתי את הדברים האלה, נפתח את הדיון – קו...</td>\n",
       "    </tr>\n",
       "    <tr>\n",
       "      <th>4</th>\n",
       "      <td>&lt;&lt; דובר &gt;&gt;</td>\n",
       "      <td>קארין אלהרר</td>\n",
       "      <td>יש עתיד-תל\"ם</td>\n",
       "      <td>הצעת חוק לתיקון ולקיום תוקפן של תקנות שעת חיר...</td>\n",
       "      <td>אדוני, תודה רבה. קודם כל, ההערות שלי מאתמול תק...</td>\n",
       "    </tr>\n",
       "    <tr>\n",
       "      <th>...</th>\n",
       "      <td>...</td>\n",
       "      <td>...</td>\n",
       "      <td>...</td>\n",
       "      <td>...</td>\n",
       "      <td>...</td>\n",
       "    </tr>\n",
       "    <tr>\n",
       "      <th>4628</th>\n",
       "      <td>&lt;&lt; יור &gt;&gt;</td>\n",
       "      <td>אוסאמה סעדי</td>\n",
       "      <td>יו\"ר</td>\n",
       "      <td>הצעת חוק חדלות פירעון ושיקום כלכלי (תיקון מס'...</td>\n",
       "      <td>אני מעלה להצבעה את הצעת חוק חדלות פירעון ושיקו...</td>\n",
       "    </tr>\n",
       "    <tr>\n",
       "      <th>4629</th>\n",
       "      <td>&lt;&lt; יור &gt;&gt;</td>\n",
       "      <td>אוסאמה סעדי</td>\n",
       "      <td>יו\"ר</td>\n",
       "      <td>הצעת חוק חדלות פירעון ושיקום כלכלי (תיקון מס'...</td>\n",
       "      <td>הצבעה</td>\n",
       "    </tr>\n",
       "    <tr>\n",
       "      <th>4630</th>\n",
       "      <td>&lt;&lt; יור &gt;&gt;</td>\n",
       "      <td>אוסאמה סעדי</td>\n",
       "      <td>יו\"ר</td>\n",
       "      <td>הצעת חוק חדלות פירעון ושיקום כלכלי (תיקון מס'...</td>\n",
       "      <td>אושר פה אחד.</td>\n",
       "    </tr>\n",
       "    <tr>\n",
       "      <th>4631</th>\n",
       "      <td>&lt;&lt; יור &gt;&gt;</td>\n",
       "      <td>אוסאמה סעדי</td>\n",
       "      <td>יו\"ר</td>\n",
       "      <td>הצעת חוק חדלות פירעון ושיקום כלכלי (תיקון מס'...</td>\n",
       "      <td>אושר פה אחד. ההצעה תועלה היום למליאה להצבעה בק...</td>\n",
       "    </tr>\n",
       "    <tr>\n",
       "      <th>4632</th>\n",
       "      <td>&lt;&lt; יור &gt;&gt;</td>\n",
       "      <td>אוסאמה סעדי</td>\n",
       "      <td>יו\"ר</td>\n",
       "      <td>הצעת חוק חדלות פירעון ושיקום כלכלי (תיקון מס'...</td>\n",
       "      <td>תודה רבה, הישיבה נעולה.</td>\n",
       "    </tr>\n",
       "  </tbody>\n",
       "</table>\n",
       "<p>4633 rows × 5 columns</p>\n",
       "</div>"
      ],
      "text/plain": [
       "     interaction speaker_name speaker_party  \\\n",
       "0      << יור >>     יעקב אשר          יו\"ר   \n",
       "1      << יור >>     יעקב אשר          יו\"ר   \n",
       "2      << יור >>     יעקב אשר          יו\"ר   \n",
       "3      << יור >>     יעקב אשר          יו\"ר   \n",
       "4     << דובר >>  קארין אלהרר  יש עתיד-תל\"ם   \n",
       "...          ...          ...           ...   \n",
       "4628   << יור >>  אוסאמה סעדי          יו\"ר   \n",
       "4629   << יור >>  אוסאמה סעדי          יו\"ר   \n",
       "4630   << יור >>  אוסאמה סעדי          יו\"ר   \n",
       "4631   << יור >>  אוסאמה סעדי          יו\"ר   \n",
       "4632   << יור >>  אוסאמה סעדי          יו\"ר   \n",
       "\n",
       "                                                subject  \\\n",
       "0      הצעת חוק לתיקון ולקיום תוקפן של תקנות שעת חיר...   \n",
       "1      הצעת חוק לתיקון ולקיום תוקפן של תקנות שעת חיר...   \n",
       "2      הצעת חוק לתיקון ולקיום תוקפן של תקנות שעת חיר...   \n",
       "3      הצעת חוק לתיקון ולקיום תוקפן של תקנות שעת חיר...   \n",
       "4      הצעת חוק לתיקון ולקיום תוקפן של תקנות שעת חיר...   \n",
       "...                                                 ...   \n",
       "4628   הצעת חוק חדלות פירעון ושיקום כלכלי (תיקון מס'...   \n",
       "4629   הצעת חוק חדלות פירעון ושיקום כלכלי (תיקון מס'...   \n",
       "4630   הצעת חוק חדלות פירעון ושיקום כלכלי (תיקון מס'...   \n",
       "4631   הצעת חוק חדלות פירעון ושיקום כלכלי (תיקון מס'...   \n",
       "4632   הצעת חוק חדלות פירעון ושיקום כלכלי (תיקון מס'...   \n",
       "\n",
       "                                                   text  \n",
       "0     בוקר טוב, אני מתכבד לפתוח את הישיבה. חברי הווע...  \n",
       "1     אני רוצה להקדים ולומר: יש דברים שאני מתכוון לע...  \n",
       "2     מה אני כן חושב שצריך להיות, זה באמת הגברה של י...  \n",
       "3     אחרי שאמרתי את הדברים האלה, נפתח את הדיון – קו...  \n",
       "4     אדוני, תודה רבה. קודם כל, ההערות שלי מאתמול תק...  \n",
       "...                                                 ...  \n",
       "4628  אני מעלה להצבעה את הצעת חוק חדלות פירעון ושיקו...  \n",
       "4629                                              הצבעה  \n",
       "4630                                       אושר פה אחד.  \n",
       "4631  אושר פה אחד. ההצעה תועלה היום למליאה להצבעה בק...  \n",
       "4632                           תודה רבה, הישיבה נעולה.   \n",
       "\n",
       "[4633 rows x 5 columns]"
      ]
     },
     "execution_count": 29,
     "metadata": {},
     "output_type": "execute_result"
    }
   ],
   "source": [
    "transcripts_df"
   ]
  },
  {
   "cell_type": "markdown",
   "metadata": {},
   "source": [
    "# Build interrupt network"
   ]
  },
  {
   "cell_type": "code",
   "execution_count": 30,
   "metadata": {},
   "outputs": [],
   "source": [
    "inter_graph = graphs.extract_transcript_graph(transcripts_df, g_type='committee_breaking')"
   ]
  },
  {
   "cell_type": "code",
   "execution_count": 31,
   "metadata": {},
   "outputs": [
    {
     "data": {
      "image/png": "[encoded data removed]",
      "text/plain": [
       "<Figure size 432x288 with 1 Axes>"
      ]
     },
     "metadata": {},
     "output_type": "display_data"
    }
   ],
   "source": [
    "nx.draw(inter_graph)"
   ]
  },
  {
   "cell_type": "markdown",
   "metadata": {},
   "source": [
    "# Remove non knesset members "
   ]
  },
  {
   "cell_type": "code",
   "execution_count": 32,
   "metadata": {},
   "outputs": [],
   "source": [
    "nodes = dict(inter_graph.nodes())\n",
    "for node in nodes:\n",
    "    if (str(node)) not in km_full_names:\n",
    "        inter_graph.remove_node(node)"
   ]
  },
  {
   "cell_type": "code",
   "execution_count": 33,
   "metadata": {},
   "outputs": [
    {
     "data": {
      "image/png": "[encoded data removed]",
      "text/plain": [
       "<Figure size 432x288 with 1 Axes>"
      ]
     },
     "metadata": {},
     "output_type": "display_data"
    }
   ],
   "source": [
    "nx.draw(inter_graph)"
   ]
  },
  {
   "cell_type": "code",
   "execution_count": 36,
   "metadata": {},
   "outputs": [],
   "source": [
    "graphs.extract_adjacency_matrix(inter_graph, 'data/adjacency_matrixes/huka_adj.csv')"
   ]
  },
  {
   "cell_type": "code",
   "execution_count": 37,
   "metadata": {},
   "outputs": [],
   "source": [
    "graphs.extract_features_matrix(inter_graph, 'data/feature_matrixes/huka_feat.csv')"
   ]
  },
  {
   "cell_type": "markdown",
   "metadata": {},
   "source": [
    "# Load all of ועדת הכנסת"
   ]
  },
  {
   "cell_type": "code",
   "execution_count": 38,
   "metadata": {},
   "outputs": [],
   "source": [
    "committees_protocols_folder =  pathlib.Path('data/ועדות לפי נושאים/ועדת הכנסת')"
   ]
  },
  {
   "cell_type": "code",
   "execution_count": 39,
   "metadata": {},
   "outputs": [
    {
     "name": "stderr",
     "output_type": "stream",
     "text": [
      "2020-07-29 11:33:42.614 | DEBUG    | knesset_social_dynamics.parsers.text_extractor:extract_new_raw_protocol:15 - Parsing new-version protocoal\n",
      "2020-07-29 11:33:42.661 | DEBUG    | knesset_social_dynamics.parsers.text_extractor:extract_new_raw_protocol:15 - Parsing new-version protocoal\n",
      "2020-07-29 11:33:42.698 | DEBUG    | knesset_social_dynamics.parsers.text_extractor:extract_new_raw_protocol:15 - Parsing new-version protocoal\n",
      "2020-07-29 11:33:42.748 | DEBUG    | knesset_social_dynamics.parsers.text_extractor:extract_new_raw_protocol:15 - Parsing new-version protocoal\n",
      "2020-07-29 11:33:42.763 | DEBUG    | knesset_social_dynamics.parsers.text_extractor:extract_new_raw_protocol:15 - Parsing new-version protocoal\n",
      "2020-07-29 11:33:42.774 | DEBUG    | knesset_social_dynamics.parsers.text_extractor:extract_new_raw_protocol:15 - Parsing new-version protocoal\n",
      "2020-07-29 11:33:42.822 | DEBUG    | knesset_social_dynamics.parsers.text_extractor:extract_new_raw_protocol:15 - Parsing new-version protocoal\n",
      "2020-07-29 11:33:42.858 | DEBUG    | knesset_social_dynamics.parsers.text_extractor:extract_new_raw_protocol:15 - Parsing new-version protocoal\n",
      "2020-07-29 11:33:42.920 | DEBUG    | knesset_social_dynamics.parsers.text_extractor:extract_new_raw_protocol:15 - Parsing new-version protocoal\n",
      "2020-07-29 11:33:42.936 | DEBUG    | knesset_social_dynamics.parsers.text_extractor:extract_new_raw_protocol:15 - Parsing new-version protocoal\n"
     ]
    }
   ],
   "source": [
    "transcripts = []\n",
    "for prot in committees_protocols_folder.glob('*'):\n",
    "    transcripts.append(commitees.extract_committee_new_transcript(prot))"
   ]
  },
  {
   "cell_type": "code",
   "execution_count": 40,
   "metadata": {},
   "outputs": [],
   "source": [
    "transcripts_df = pd.concat(transcripts, ignore_index=True)"
   ]
  },
  {
   "cell_type": "code",
   "execution_count": 41,
   "metadata": {},
   "outputs": [
    {
     "data": {
      "text/html": [
       "<div>\n",
       "<style scoped>\n",
       "    .dataframe tbody tr th:only-of-type {\n",
       "        vertical-align: middle;\n",
       "    }\n",
       "\n",
       "    .dataframe tbody tr th {\n",
       "        vertical-align: top;\n",
       "    }\n",
       "\n",
       "    .dataframe thead th {\n",
       "        text-align: right;\n",
       "    }\n",
       "</style>\n",
       "<table border=\"1\" class=\"dataframe\">\n",
       "  <thead>\n",
       "    <tr style=\"text-align: right;\">\n",
       "      <th></th>\n",
       "      <th>interaction</th>\n",
       "      <th>speaker_name</th>\n",
       "      <th>speaker_party</th>\n",
       "      <th>subject</th>\n",
       "      <th>text</th>\n",
       "    </tr>\n",
       "  </thead>\n",
       "  <tbody>\n",
       "    <tr>\n",
       "      <th>0</th>\n",
       "      <td>&lt;&lt; יור &gt;&gt;</td>\n",
       "      <td>איתן גינזבורג</td>\n",
       "      <td>יו\"ר</td>\n",
       "      <td>הצעת חוק מענק הסתגלות מיוחד לבני 67 ומעלה (הו...</td>\n",
       "      <td>בוקר טוב, אני מתכבד לפתוח את ישיבת ועדת הכנסת....</td>\n",
       "    </tr>\n",
       "    <tr>\n",
       "      <th>1</th>\n",
       "      <td>&lt;&lt; יור &gt;&gt;</td>\n",
       "      <td>איתן גינזבורג</td>\n",
       "      <td>יו\"ר</td>\n",
       "      <td>הצעת חוק מענק הסתגלות מיוחד לבני 67 ומעלה (הו...</td>\n",
       "      <td>שני נושאים על סדר היום: בקשת יושב-ראש ועדת העב...</td>\n",
       "    </tr>\n",
       "    <tr>\n",
       "      <th>2</th>\n",
       "      <td>&lt;&lt; יור &gt;&gt;</td>\n",
       "      <td>איתן גינזבורג</td>\n",
       "      <td>יו\"ר</td>\n",
       "      <td>הצעת חוק מענק הסתגלות מיוחד לבני 67 ומעלה (הו...</td>\n",
       "      <td>יושב-ראש ועדת הכספים, הבנתי, הודיע כי הוא מוות...</td>\n",
       "    </tr>\n",
       "    <tr>\n",
       "      <th>3</th>\n",
       "      <td>&lt;&lt; יור &gt;&gt;</td>\n",
       "      <td>איתן גינזבורג</td>\n",
       "      <td>יו\"ר</td>\n",
       "      <td>הצעת חוק מענק הסתגלות מיוחד לבני 67 ומעלה (הו...</td>\n",
       "      <td>מי בעד להעביר את הצעת החוק לוועדת העבודה, הרוו...</td>\n",
       "    </tr>\n",
       "    <tr>\n",
       "      <th>4</th>\n",
       "      <td>&lt;&lt; יור &gt;&gt;</td>\n",
       "      <td>איתן גינזבורג</td>\n",
       "      <td>יו\"ר</td>\n",
       "      <td>הצעת חוק מענק הסתגלות מיוחד לבני 67 ומעלה (הו...</td>\n",
       "      <td>הצבעה</td>\n",
       "    </tr>\n",
       "    <tr>\n",
       "      <th>...</th>\n",
       "      <td>...</td>\n",
       "      <td>...</td>\n",
       "      <td>...</td>\n",
       "      <td>...</td>\n",
       "      <td>...</td>\n",
       "    </tr>\n",
       "    <tr>\n",
       "      <th>1412</th>\n",
       "      <td>&lt;&lt; יור &gt;&gt;</td>\n",
       "      <td>איתן גינזבורג</td>\n",
       "      <td>יו\"ר</td>\n",
       "      <td></td>\n",
       "      <td>מי בעד הרביזיה?</td>\n",
       "    </tr>\n",
       "    <tr>\n",
       "      <th>1413</th>\n",
       "      <td>&lt;&lt; יור &gt;&gt;</td>\n",
       "      <td>איתן גינזבורג</td>\n",
       "      <td>יו\"ר</td>\n",
       "      <td></td>\n",
       "      <td>הצבעה</td>\n",
       "    </tr>\n",
       "    <tr>\n",
       "      <th>1414</th>\n",
       "      <td>&lt;&lt; יור &gt;&gt;</td>\n",
       "      <td>איתן גינזבורג</td>\n",
       "      <td>יו\"ר</td>\n",
       "      <td></td>\n",
       "      <td>הרביזיה לא התקבלה.</td>\n",
       "    </tr>\n",
       "    <tr>\n",
       "      <th>1415</th>\n",
       "      <td>&lt;&lt; יור &gt;&gt;</td>\n",
       "      <td>איתן גינזבורג</td>\n",
       "      <td>יו\"ר</td>\n",
       "      <td></td>\n",
       "      <td>הרביזיה לא התקבלה.</td>\n",
       "    </tr>\n",
       "    <tr>\n",
       "      <th>1416</th>\n",
       "      <td>&lt;&lt; יור &gt;&gt;</td>\n",
       "      <td>איתן גינזבורג</td>\n",
       "      <td>יו\"ר</td>\n",
       "      <td></td>\n",
       "      <td>תודה רבה, הישיבה ננעלה.</td>\n",
       "    </tr>\n",
       "  </tbody>\n",
       "</table>\n",
       "<p>1417 rows × 5 columns</p>\n",
       "</div>"
      ],
      "text/plain": [
       "     interaction   speaker_name speaker_party  \\\n",
       "0      << יור >>  איתן גינזבורג          יו\"ר   \n",
       "1      << יור >>  איתן גינזבורג          יו\"ר   \n",
       "2      << יור >>  איתן גינזבורג          יו\"ר   \n",
       "3      << יור >>  איתן גינזבורג          יו\"ר   \n",
       "4      << יור >>  איתן גינזבורג          יו\"ר   \n",
       "...          ...            ...           ...   \n",
       "1412   << יור >>  איתן גינזבורג          יו\"ר   \n",
       "1413   << יור >>  איתן גינזבורג          יו\"ר   \n",
       "1414   << יור >>  איתן גינזבורג          יו\"ר   \n",
       "1415   << יור >>  איתן גינזבורג          יו\"ר   \n",
       "1416   << יור >>  איתן גינזבורג          יו\"ר   \n",
       "\n",
       "                                                subject  \\\n",
       "0      הצעת חוק מענק הסתגלות מיוחד לבני 67 ומעלה (הו...   \n",
       "1      הצעת חוק מענק הסתגלות מיוחד לבני 67 ומעלה (הו...   \n",
       "2      הצעת חוק מענק הסתגלות מיוחד לבני 67 ומעלה (הו...   \n",
       "3      הצעת חוק מענק הסתגלות מיוחד לבני 67 ומעלה (הו...   \n",
       "4      הצעת חוק מענק הסתגלות מיוחד לבני 67 ומעלה (הו...   \n",
       "...                                                 ...   \n",
       "1412                                                      \n",
       "1413                                                      \n",
       "1414                                                      \n",
       "1415                                                      \n",
       "1416                                                      \n",
       "\n",
       "                                                   text  \n",
       "0     בוקר טוב, אני מתכבד לפתוח את ישיבת ועדת הכנסת....  \n",
       "1     שני נושאים על סדר היום: בקשת יושב-ראש ועדת העב...  \n",
       "2     יושב-ראש ועדת הכספים, הבנתי, הודיע כי הוא מוות...  \n",
       "3     מי בעד להעביר את הצעת החוק לוועדת העבודה, הרוו...  \n",
       "4                                                 הצבעה  \n",
       "...                                                 ...  \n",
       "1412                                    מי בעד הרביזיה?  \n",
       "1413                                              הצבעה  \n",
       "1414                                הרביזיה לא התקבלה.   \n",
       "1415                                הרביזיה לא התקבלה.   \n",
       "1416                       תודה רבה, הישיבה ננעלה.       \n",
       "\n",
       "[1417 rows x 5 columns]"
      ]
     },
     "execution_count": 41,
     "metadata": {},
     "output_type": "execute_result"
    }
   ],
   "source": [
    "transcripts_df"
   ]
  },
  {
   "cell_type": "markdown",
   "metadata": {},
   "source": [
    "# Build interrupt network"
   ]
  },
  {
   "cell_type": "code",
   "execution_count": 42,
   "metadata": {},
   "outputs": [],
   "source": [
    "inter_graph = graphs.extract_transcript_graph(transcripts_df, g_type='committee_breaking')"
   ]
  },
  {
   "cell_type": "code",
   "execution_count": 43,
   "metadata": {},
   "outputs": [
    {
     "data": {
      "image/png": "[encoded data removed]",
      "text/plain": [
       "<Figure size 432x288 with 1 Axes>"
      ]
     },
     "metadata": {},
     "output_type": "display_data"
    }
   ],
   "source": [
    "nx.draw(inter_graph)"
   ]
  },
  {
   "cell_type": "markdown",
   "metadata": {},
   "source": [
    "# Remove non knesset members "
   ]
  },
  {
   "cell_type": "code",
   "execution_count": 44,
   "metadata": {},
   "outputs": [],
   "source": [
    "nodes = dict(inter_graph.nodes())\n",
    "for node in nodes:\n",
    "    if (str(node)) not in km_full_names:\n",
    "        inter_graph.remove_node(node)"
   ]
  },
  {
   "cell_type": "code",
   "execution_count": 45,
   "metadata": {},
   "outputs": [
    {
     "data": {
      "image/png": "[encoded data removed]",
      "text/plain": [
       "<Figure size 432x288 with 1 Axes>"
      ]
     },
     "metadata": {},
     "output_type": "display_data"
    }
   ],
   "source": [
    "nx.draw(inter_graph)"
   ]
  },
  {
   "cell_type": "code",
   "execution_count": 46,
   "metadata": {},
   "outputs": [],
   "source": [
    "graphs.extract_adjacency_matrix(inter_graph, 'data/adjacency_matrixes/knesset_adj.csv')"
   ]
  },
  {
   "cell_type": "code",
   "execution_count": 47,
   "metadata": {},
   "outputs": [],
   "source": [
    "graphs.extract_features_matrix(inter_graph, 'data/feature_matrixes/knesset_feat.csv')"
   ]
  },
  {
   "cell_type": "code",
   "execution_count": null,
   "metadata": {},
   "outputs": [],
   "source": []
  }
 ],
 "metadata": {
  "kernelspec": {
   "display_name": "Python 3",
   "language": "python",
   "name": "python3"
  },
  "language_info": {
   "codemirror_mode": {
    "name": "ipython",
    "version": 3
   },
   "file_extension": ".py",
   "mimetype": "text/x-python",
   "name": "python",
   "nbconvert_exporter": "python",
   "pygments_lexer": "ipython3",
   "version": "3.7.6"
  }
 },
 "nbformat": 4,
 "nbformat_minor": 4
}
