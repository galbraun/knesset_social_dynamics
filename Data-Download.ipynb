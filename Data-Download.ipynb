{
 "cells": [
  {
   "cell_type": "code",
   "execution_count": 42,
   "metadata": {},
   "outputs": [],
   "source": [
    "import os\n",
    "import zipfile\n",
    "\n",
    "from pathlib import Path\n",
    "from google_drive_downloader import GoogleDriveDownloader as gdd"
   ]
  },
  {
   "cell_type": "code",
   "execution_count": 43,
   "metadata": {},
   "outputs": [],
   "source": [
    "root = \"./data\"\n",
    "Path(root).mkdir(exist_ok=True) # mkdir root folder if not exist\n",
    "\n",
    "# folder name -> zip file id in google drive\n",
    "gdd_config = {\n",
    "    \"committee_protocols\": \"1Lx1B4BA5Duok6xVHim4sNY5UxZ3iC_Jp\",\n",
    "    \"plenum_protocols\": \"1FJ1HXRe0IoaVwH9N5aacxY9-XXKYO5VR\"\n",
    "}"
   ]
  },
  {
   "cell_type": "code",
   "execution_count": 44,
   "metadata": {},
   "outputs": [],
   "source": [
    "def download_data(data):\n",
    "    \"\"\"\n",
    "    data can be 'committee_protocols' or 'plenum_protocols'\n",
    "    \"\"\"\n",
    "    \n",
    "    if data not in gdd_config.keys():\n",
    "        raise ValueError(f\"Invalid data name: {data}\")\n",
    "    \n",
    "    data_path = os.path.join(root, data + \".zip\")\n",
    "    \n",
    "    print(f\"Started downloading {data}...\")\n",
    "    gdd.download_file_from_google_drive(file_id=gdd_config[data],\n",
    "                                            dest_path=data_path,\n",
    "                                            unzip=False,\n",
    "                                            showsize=True,\n",
    "                                            overwrite=True)\n",
    "\n",
    "    print(f\"{data} downloaded successfully. Extracting zip file...\")\n",
    "    \n",
    "    with zipfile.ZipFile(data_path, 'r') as data_zip:\n",
    "        data_zip.extractall(os.path.join(root, data))\n",
    "    \n",
    "    print(f\"{data} extracted successfully\")\n",
    "    os.remove(data_path)"
   ]
  },
  {
   "cell_type": "code",
   "execution_count": 45,
   "metadata": {},
   "outputs": [
    {
     "name": "stdout",
     "output_type": "stream",
     "text": [
      "Started downloading plenum_protocols...\n",
      "Downloading 1FJ1HXRe0IoaVwH9N5aacxY9-XXKYO5VR into ./data\\plenum_protocols.zip... \n",
      "2.4 MiB B Done.\n",
      "plenum_protocols downloaded successfully. Extracting zip file...\n",
      "plenum_protocols extracted successfully\n"
     ]
    },
    {
     "name": "stderr",
     "output_type": "stream",
     "text": [
      "C:\\Users\\Eli\\Anaconda3\\envs\\knesset\\lib\\site-packages\\ipykernel_launcher.py:16: ResourceWarning: unclosed <ssl.SSLSocket fd=1640, family=AddressFamily.AF_INET, type=SocketKind.SOCK_STREAM, proto=0, laddr=('192.168.0.54', 62620), raddr=('172.217.16.206', 443)>\n",
      "  app.launch_new_instance()\n",
      "C:\\Users\\Eli\\Anaconda3\\envs\\knesset\\lib\\site-packages\\ipykernel_launcher.py:16: ResourceWarning: unclosed <ssl.SSLSocket fd=1552, family=AddressFamily.AF_INET, type=SocketKind.SOCK_STREAM, proto=0, laddr=('192.168.0.54', 62623), raddr=('216.58.207.65', 443)>\n",
      "  app.launch_new_instance()\n"
     ]
    }
   ],
   "source": [
    "download_data(\"plenum_protocols\")"
   ]
  },
  {
   "cell_type": "code",
   "execution_count": 46,
   "metadata": {},
   "outputs": [
    {
     "name": "stdout",
     "output_type": "stream",
     "text": [
      "Started downloading committee_protocols...\n",
      "Downloading 1Lx1B4BA5Duok6xVHim4sNY5UxZ3iC_Jp into ./data\\committee_protocols.zip... \n",
      "17.8 MiB       Done.\n",
      "committee_protocols downloaded successfully. Extracting zip file...\n",
      "committee_protocols extracted successfully\n"
     ]
    },
    {
     "name": "stderr",
     "output_type": "stream",
     "text": [
      "C:\\Users\\Eli\\Anaconda3\\envs\\knesset\\lib\\site-packages\\ipykernel_launcher.py:16: ResourceWarning: unclosed <ssl.SSLSocket fd=1528, family=AddressFamily.AF_INET, type=SocketKind.SOCK_STREAM, proto=0, laddr=('192.168.0.54', 62624), raddr=('172.217.16.206', 443)>\n",
      "  app.launch_new_instance()\n",
      "C:\\Users\\Eli\\Anaconda3\\envs\\knesset\\lib\\site-packages\\ipykernel_launcher.py:16: ResourceWarning: unclosed <ssl.SSLSocket fd=1436, family=AddressFamily.AF_INET, type=SocketKind.SOCK_STREAM, proto=0, laddr=('192.168.0.54', 62632), raddr=('216.58.207.65', 443)>\n",
      "  app.launch_new_instance()\n"
     ]
    }
   ],
   "source": [
    "download_data(\"committee_protocols\")"
   ]
  }
 ],
 "metadata": {
  "kernelspec": {
   "display_name": "knesset",
   "language": "python",
   "name": "knesset"
  },
  "language_info": {
   "codemirror_mode": {
    "name": "ipython",
    "version": 3
   },
   "file_extension": ".py",
   "mimetype": "text/x-python",
   "name": "python",
   "nbconvert_exporter": "python",
   "pygments_lexer": "ipython3",
   "version": "3.6.10"
  }
 },
 "nbformat": 4,
 "nbformat_minor": 4
}
