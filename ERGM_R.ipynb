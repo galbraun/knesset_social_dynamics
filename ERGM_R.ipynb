{
  "nbformat": 4,
  "nbformat_minor": 0,
  "metadata": {
    "colab": {
      "name": "ERGM-R.ipynb",
      "provenance": [],
      "collapsed_sections": [],
      "authorship_tag": "ABX9TyPkxUpa1MqBbGLyegLpxkAc",
      "include_colab_link": true
    },
    "kernelspec": {
      "name": "python3",
      "display_name": "Python 3"
    }
  },
  "cells": [
    {
      "cell_type": "markdown",
      "metadata": {
        "id": "view-in-github",
        "colab_type": "text"
      },
      "source": [
        "<a href=\"https://colab.research.google.com/github/galbraun/knesset_social_dynamics/blob/master/ERGM_R.ipynb\" target=\"_parent\"><img src=\"https://colab.research.google.com/assets/colab-badge.svg\" alt=\"Open In Colab\"/></a>"
      ]
    },
    {
      "cell_type": "code",
      "metadata": {
        "id": "a3mh8q6i6MOj",
        "colab_type": "code",
        "colab": {
          "base_uri": "https://localhost:8080/",
          "height": 392
        },
        "outputId": "1c094017-29aa-469a-96fc-fba8c66d88e9"
      },
      "source": [
        "!pip3 install rpy2\n",
        "%load_ext rpy2.ipython"
      ],
      "execution_count": null,
      "outputs": [
        {
          "output_type": "stream",
          "text": [
            "Requirement already satisfied: rpy2 in /usr/local/lib/python3.6/dist-packages (3.2.7)\n",
            "Requirement already satisfied: tzlocal in /usr/local/lib/python3.6/dist-packages (from rpy2) (1.5.1)\n",
            "Requirement already satisfied: cffi>=1.13.1 in /usr/local/lib/python3.6/dist-packages (from rpy2) (1.14.0)\n",
            "Requirement already satisfied: jinja2 in /usr/local/lib/python3.6/dist-packages (from rpy2) (2.11.2)\n",
            "Requirement already satisfied: pytest in /usr/local/lib/python3.6/dist-packages (from rpy2) (3.6.4)\n",
            "Requirement already satisfied: simplegeneric in /usr/local/lib/python3.6/dist-packages (from rpy2) (0.8.1)\n",
            "Requirement already satisfied: pytz in /usr/local/lib/python3.6/dist-packages (from rpy2) (2018.9)\n",
            "Requirement already satisfied: pycparser in /usr/local/lib/python3.6/dist-packages (from cffi>=1.13.1->rpy2) (2.20)\n",
            "Requirement already satisfied: MarkupSafe>=0.23 in /usr/local/lib/python3.6/dist-packages (from jinja2->rpy2) (1.1.1)\n",
            "Requirement already satisfied: py>=1.5.0 in /usr/local/lib/python3.6/dist-packages (from pytest->rpy2) (1.9.0)\n",
            "Requirement already satisfied: attrs>=17.4.0 in /usr/local/lib/python3.6/dist-packages (from pytest->rpy2) (19.3.0)\n",
            "Requirement already satisfied: more-itertools>=4.0.0 in /usr/local/lib/python3.6/dist-packages (from pytest->rpy2) (8.4.0)\n",
            "Requirement already satisfied: atomicwrites>=1.0 in /usr/local/lib/python3.6/dist-packages (from pytest->rpy2) (1.4.0)\n",
            "Requirement already satisfied: six>=1.10.0 in /usr/local/lib/python3.6/dist-packages (from pytest->rpy2) (1.12.0)\n",
            "Requirement already satisfied: setuptools in /usr/local/lib/python3.6/dist-packages (from pytest->rpy2) (49.1.0)\n",
            "Requirement already satisfied: pluggy<0.8,>=0.5 in /usr/local/lib/python3.6/dist-packages (from pytest->rpy2) (0.7.1)\n"
          ],
          "name": "stdout"
        },
        {
          "output_type": "stream",
          "text": [
            "/usr/local/lib/python3.6/dist-packages/rpy2/robjects/pandas2ri.py:14: FutureWarning: pandas.core.index is deprecated and will be removed in a future version.  The public classes are available in the top-level namespace.\n",
            "  from pandas.core.index import Index as PandasIndex\n",
            "/usr/local/lib/python3.6/dist-packages/rpy2/robjects/pandas2ri.py:34: UserWarning: pandas >= 1.0 is not supported.\n",
            "  warnings.warn('pandas >= 1.0 is not supported.')\n"
          ],
          "name": "stderr"
        }
      ]
    },
    {
      "cell_type": "code",
      "metadata": {
        "id": "itW_QW_S6Nha",
        "colab_type": "code",
        "colab": {}
      },
      "source": [
        "%%R\n",
        "install.packages('network')\n",
        "install.packages('ergm')\n",
        "install.packages('sna')\n",
        "install.packages('coda')\n",
        "library(network)\n",
        "library(ergm)\n",
        "library(sna)\n",
        "library(coda)"
      ],
      "execution_count": null,
      "outputs": []
    },
    {
      "cell_type": "code",
      "metadata": {
        "id": "AOXlwyq76YBU",
        "colab_type": "code",
        "colab": {
          "base_uri": "https://localhost:8080/",
          "height": 283
        },
        "outputId": "b3559fd7-3563-4114-d75f-47c7429babaa"
      },
      "source": [
        "%%R\n",
        "data(package='ergm') # tells us the datasets in our packages\n",
        "data(florentine) # loads flomarriage and flobusiness data\n",
        "flomarriage # Let's look at the flomarriage data"
      ],
      "execution_count": null,
      "outputs": [
        {
          "output_type": "stream",
          "text": [
            " Network attributes:\n",
            "  vertices = 16 \n",
            "  directed = FALSE \n",
            "  hyper = FALSE \n",
            "  loops = FALSE \n",
            "  multiple = FALSE \n",
            "  bipartite = FALSE \n",
            "  total edges= 20 \n",
            "    missing edges= 0 \n",
            "    non-missing edges= 20 \n",
            "\n",
            " Vertex attribute names: \n",
            "    priorates totalties vertex.names wealth \n",
            "\n",
            "No edge attributes\n"
          ],
          "name": "stdout"
        }
      ]
    },
    {
      "cell_type": "code",
      "metadata": {
        "id": "LiOGhAMi7M6j",
        "colab_type": "code",
        "colab": {
          "base_uri": "https://localhost:8080/",
          "height": 496
        },
        "outputId": "bff923f2-ca94-4202-94a4-d7cb4379e8f7"
      },
      "source": [
        "%%R\n",
        "plot(flomarriage) # Let's view the flomarriage network"
      ],
      "execution_count": null,
      "outputs": [
        {
          "output_type": "display_data",
          "data": {
            "image/png": "[encoded data removed]"
          },
          "metadata": {
            "tags": []
          }
        }
      ]
    },
    {
      "cell_type": "code",
      "metadata": {
        "id": "4hc4hHRq7Uma",
        "colab_type": "code",
        "colab": {
          "base_uri": "https://localhost:8080/",
          "height": 247
        },
        "outputId": "340d8a2d-117a-464b-92a4-6a1406d3dac3"
      },
      "source": [
        "%%R\n",
        "flomodel.01 <- ergm(flomarriage~edges) # fit model"
      ],
      "execution_count": null,
      "outputs": [
        {
          "output_type": "stream",
          "text": [
            "R[write to console]: Starting maximum pseudolikelihood estimation (MPLE):\n",
            "\n",
            "R[write to console]: Evaluating the predictor and response matrix.\n",
            "\n",
            "R[write to console]: Maximizing the pseudolikelihood.\n",
            "\n",
            "R[write to console]: Finished MPLE.\n",
            "\n",
            "R[write to console]: Stopping at the initial estimate.\n",
            "\n",
            "R[write to console]: Evaluating log-likelihood at the estimate. \n",
            "R[write to console]: \n",
            "\n"
          ],
          "name": "stderr"
        }
      ]
    },
    {
      "cell_type": "code",
      "metadata": {
        "id": "uj7pQNwg7frs",
        "colab_type": "code",
        "colab": {
          "base_uri": "https://localhost:8080/",
          "height": 425
        },
        "outputId": "4f2f85d4-0d20-4409-f536-c1999a262cb0"
      },
      "source": [
        "%%R\n",
        "print(flomodel.01)\n",
        "summary(flomodel.01) # look in more depth"
      ],
      "execution_count": null,
      "outputs": [
        {
          "output_type": "stream",
          "text": [
            "\n",
            "MLE Coefficients:\n",
            " edges  \n",
            "-1.609  \n",
            "\n",
            "==========================\n",
            "Summary of model fit\n",
            "==========================\n",
            "\n",
            "Formula:   flomarriage ~ edges\n",
            "\n",
            "Iterations:  5 out of 20 \n",
            "\n",
            "Monte Carlo MLE Results:\n",
            "      Estimate Std. Error MCMC % z value Pr(>|z|)    \n",
            "edges  -1.6094     0.2449      0  -6.571   <1e-04 ***\n",
            "---\n",
            "Signif. codes:  0 ‘***’ 0.001 ‘**’ 0.01 ‘*’ 0.05 ‘.’ 0.1 ‘ ’ 1\n",
            "\n",
            "     Null Deviance: 166.4  on 120  degrees of freedom\n",
            " Residual Deviance: 108.1  on 119  degrees of freedom\n",
            " \n",
            "AIC: 110.1    BIC: 112.9    (Smaller is better.) \n"
          ],
          "name": "stdout"
        }
      ]
    },
    {
      "cell_type": "code",
      "metadata": {
        "id": "Bir96k2M7i4r",
        "colab_type": "code",
        "colab": {}
      },
      "source": [
        ""
      ],
      "execution_count": null,
      "outputs": []
    }
  ]
}