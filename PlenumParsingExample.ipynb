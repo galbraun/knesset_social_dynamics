{
 "cells": [
  {
   "cell_type": "markdown",
   "metadata": {},
   "source": [
    "# Plenum"
   ]
  },
  {
   "cell_type": "code",
   "execution_count": 1,
   "metadata": {},
   "outputs": [],
   "source": [
    "from knesset_social_dynamics.parsers import plenum\n",
    "import pathlib\n",
    "import random"
   ]
  },
  {
   "cell_type": "markdown",
   "metadata": {},
   "source": [
    "# Choose a random plenum file from the folder"
   ]
  },
  {
   "cell_type": "code",
   "execution_count": 2,
   "metadata": {},
   "outputs": [],
   "source": [
    "plenums_protocols_folder =  pathlib.Path('data/plenum_protocols//')"
   ]
  },
  {
   "cell_type": "code",
   "execution_count": 3,
   "metadata": {},
   "outputs": [],
   "source": [
    "random_plenum_proto_path = random.choice(list(plenums_protocols_folder.glob(\"*.doc\")))"
   ]
  },
  {
   "cell_type": "markdown",
   "metadata": {},
   "source": [
    "# Extract plenum transcript"
   ]
  },
  {
   "cell_type": "code",
   "execution_count": 5,
   "metadata": {},
   "outputs": [
    {
     "name": "stderr",
     "output_type": "stream",
     "text": [
      "2020-07-10 11:13:35.877 | DEBUG    | knesset_social_dynamics.parsers.text_extractor:extract_new_raw_protocol:15 - Parsing new-version protocoal\n"
     ]
    }
   ],
   "source": [
    "transcript = plenum.extract_plenum_new_transcript(random_plenum_proto_path)"
   ]
  },
  {
   "cell_type": "code",
   "execution_count": 6,
   "metadata": {},
   "outputs": [
    {
     "data": {
      "text/html": [
       "<div>\n",
       "<style scoped>\n",
       "    .dataframe tbody tr th:only-of-type {\n",
       "        vertical-align: middle;\n",
       "    }\n",
       "\n",
       "    .dataframe tbody tr th {\n",
       "        vertical-align: top;\n",
       "    }\n",
       "\n",
       "    .dataframe thead th {\n",
       "        text-align: right;\n",
       "    }\n",
       "</style>\n",
       "<table border=\"1\" class=\"dataframe\">\n",
       "  <thead>\n",
       "    <tr style=\"text-align: right;\">\n",
       "      <th></th>\n",
       "      <th>interaction</th>\n",
       "      <th>speaker_name</th>\n",
       "      <th>speaker_party</th>\n",
       "      <th>subject</th>\n",
       "      <th>text</th>\n",
       "    </tr>\n",
       "  </thead>\n",
       "  <tbody>\n",
       "    <tr>\n",
       "      <th>0</th>\n",
       "      <td></td>\n",
       "      <td></td>\n",
       "      <td></td>\n",
       "      <td></td>\n",
       "      <td>&lt;&lt; נושא &gt;&gt; מסמכים שהונחו על שולחן הכנסת &lt;&lt; נו...</td>\n",
       "    </tr>\n",
       "    <tr>\n",
       "      <th>1</th>\n",
       "      <td>&lt;&lt; יור &gt;&gt;</td>\n",
       "      <td>איתן גינזבורג</td>\n",
       "      <td>יו\"ר</td>\n",
       "      <td></td>\n",
       "      <td>חברי הכנסת, אני מתכבד לפתוח את ישיבת הכנסת היו...</td>\n",
       "    </tr>\n",
       "    <tr>\n",
       "      <th>2</th>\n",
       "      <td>&lt;&lt; יור &gt;&gt;</td>\n",
       "      <td>איתן גינזבורג</td>\n",
       "      <td>יו\"ר</td>\n",
       "      <td></td>\n",
       "      <td>נתחיל עם הודעה למזכירת הכנסת, בבקשה.</td>\n",
       "    </tr>\n",
       "    <tr>\n",
       "      <th>3</th>\n",
       "      <td>&lt;&lt; דובר &gt;&gt;</td>\n",
       "      <td>מזכירת הכנסת ירדנה מלר-הורוביץ</td>\n",
       "      <td>מזכירת הכנסת ירדנה מלר-הורוביץ</td>\n",
       "      <td></td>\n",
       "      <td>תודה. ברשות יושב-ראש הישיבה, הינני מתכבדת להוד...</td>\n",
       "    </tr>\n",
       "    <tr>\n",
       "      <th>4</th>\n",
       "      <td>&lt;&lt; דובר &gt;&gt;</td>\n",
       "      <td>מזכירת הכנסת ירדנה מלר-הורוביץ</td>\n",
       "      <td>מזכירת הכנסת ירדנה מלר-הורוביץ</td>\n",
       "      <td></td>\n",
       "      <td>לקריאה שנייה ולקריאה שלישית: הצעת חוק שמירת הנ...</td>\n",
       "    </tr>\n",
       "    <tr>\n",
       "      <th>...</th>\n",
       "      <td>...</td>\n",
       "      <td>...</td>\n",
       "      <td>...</td>\n",
       "      <td>...</td>\n",
       "      <td>...</td>\n",
       "    </tr>\n",
       "    <tr>\n",
       "      <th>951</th>\n",
       "      <td>&lt;&lt; יור &gt;&gt;</td>\n",
       "      <td>איתן גינזבורג</td>\n",
       "      <td>יו\"ר</td>\n",
       "      <td></td>\n",
       "      <td>&lt;&lt; נושא &gt;&gt; מסמכים שהונחו על שולחן הכנסת &lt;&lt; נו...</td>\n",
       "    </tr>\n",
       "    <tr>\n",
       "      <th>952</th>\n",
       "      <td>&lt;&lt; יור &gt;&gt;</td>\n",
       "      <td>איתן גינזבורג</td>\n",
       "      <td>יו\"ר</td>\n",
       "      <td></td>\n",
       "      <td>הודעה למזכירת הכנסת.</td>\n",
       "    </tr>\n",
       "    <tr>\n",
       "      <th>953</th>\n",
       "      <td>&lt;&lt; דובר &gt;&gt;</td>\n",
       "      <td>מזכירת הכנסת ירדנה מלר-הורוביץ</td>\n",
       "      <td>מזכירת הכנסת ירדנה מלר-הורוביץ</td>\n",
       "      <td></td>\n",
       "      <td>תודה. ברשות יושב-ראש הישיבה, הינני מתכבדת להוד...</td>\n",
       "    </tr>\n",
       "    <tr>\n",
       "      <th>954</th>\n",
       "      <td>&lt;&lt; יור &gt;&gt;</td>\n",
       "      <td>איתן גינזבורג</td>\n",
       "      <td>יו\"ר</td>\n",
       "      <td></td>\n",
       "      <td>תודה למזכירת הכנסת.</td>\n",
       "    </tr>\n",
       "    <tr>\n",
       "      <th>955</th>\n",
       "      <td>&lt;&lt; יור &gt;&gt;</td>\n",
       "      <td>איתן גינזבורג</td>\n",
       "      <td>יו\"ר</td>\n",
       "      <td></td>\n",
       "      <td>חברי הכנסת, תם סדר-היום. הישיבה הבאה תתקיים מח...</td>\n",
       "    </tr>\n",
       "  </tbody>\n",
       "</table>\n",
       "<p>956 rows × 5 columns</p>\n",
       "</div>"
      ],
      "text/plain": [
       "    interaction                    speaker_name  \\\n",
       "0                                                 \n",
       "1     << יור >>                   איתן גינזבורג   \n",
       "2     << יור >>                   איתן גינזבורג   \n",
       "3    << דובר >>  מזכירת הכנסת ירדנה מלר-הורוביץ   \n",
       "4    << דובר >>  מזכירת הכנסת ירדנה מלר-הורוביץ   \n",
       "..          ...                             ...   \n",
       "951   << יור >>                   איתן גינזבורג   \n",
       "952   << יור >>                   איתן גינזבורג   \n",
       "953  << דובר >>  מזכירת הכנסת ירדנה מלר-הורוביץ   \n",
       "954   << יור >>                   איתן גינזבורג   \n",
       "955   << יור >>                   איתן גינזבורג   \n",
       "\n",
       "                      speaker_party subject  \\\n",
       "0                                             \n",
       "1                              יו\"ר           \n",
       "2                              יו\"ר           \n",
       "3    מזכירת הכנסת ירדנה מלר-הורוביץ           \n",
       "4    מזכירת הכנסת ירדנה מלר-הורוביץ           \n",
       "..                              ...     ...   \n",
       "951                            יו\"ר           \n",
       "952                            יו\"ר           \n",
       "953  מזכירת הכנסת ירדנה מלר-הורוביץ           \n",
       "954                            יו\"ר           \n",
       "955                            יו\"ר           \n",
       "\n",
       "                                                  text  \n",
       "0     << נושא >> מסמכים שהונחו על שולחן הכנסת << נו...  \n",
       "1    חברי הכנסת, אני מתכבד לפתוח את ישיבת הכנסת היו...  \n",
       "2                נתחיל עם הודעה למזכירת הכנסת, בבקשה.   \n",
       "3    תודה. ברשות יושב-ראש הישיבה, הינני מתכבדת להוד...  \n",
       "4    לקריאה שנייה ולקריאה שלישית: הצעת חוק שמירת הנ...  \n",
       "..                                                 ...  \n",
       "951   << נושא >> מסמכים שהונחו על שולחן הכנסת << נו...  \n",
       "952                              הודעה למזכירת הכנסת.   \n",
       "953  תודה. ברשות יושב-ראש הישיבה, הינני מתכבדת להוד...  \n",
       "954                                תודה למזכירת הכנסת.  \n",
       "955  חברי הכנסת, תם סדר-היום. הישיבה הבאה תתקיים מח...  \n",
       "\n",
       "[956 rows x 5 columns]"
      ]
     },
     "execution_count": 6,
     "metadata": {},
     "output_type": "execute_result"
    }
   ],
   "source": [
    "transcript"
   ]
  }
 ],
 "metadata": {
  "kernelspec": {
   "display_name": "Python 3",
   "language": "python",
   "name": "python3"
  },
  "language_info": {
   "codemirror_mode": {
    "name": "ipython",
    "version": 3
   },
   "file_extension": ".py",
   "mimetype": "text/x-python",
   "name": "python",
   "nbconvert_exporter": "python",
   "pygments_lexer": "ipython3",
   "version": "3.7.6"
  }
 },
 "nbformat": 4,
 "nbformat_minor": 4
}
