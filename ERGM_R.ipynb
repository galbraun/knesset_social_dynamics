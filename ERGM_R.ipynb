{
  "nbformat": 4,
  "nbformat_minor": 0,
  "metadata": {
    "colab": {
      "name": "ERGM-R.ipynb",
      "provenance": [],
      "collapsed_sections": [],
      "toc_visible": true,
      "authorship_tag": "ABX9TyNvY8z140co8hN4fh/KYNp5",
      "include_colab_link": true
    },
    "kernelspec": {
      "name": "python3",
      "display_name": "Python 3"
    }
  },
  "cells": [
    {
      "cell_type": "markdown",
      "metadata": {
        "id": "view-in-github",
        "colab_type": "text"
      },
      "source": [
        "<a href=\"https://colab.research.google.com/github/galbraun/knesset_social_dynamics/blob/master/ERGM_R.ipynb\" target=\"_parent\"><img src=\"https://colab.research.google.com/assets/colab-badge.svg\" alt=\"Open In Colab\"/></a>"
      ]
    },
    {
      "cell_type": "markdown",
      "metadata": {
        "id": "lEFoSX7N9dpi",
        "colab_type": "text"
      },
      "source": [
        "# Useful links:\n",
        "* Start with [introduction to ergm](https://cran.r-project.org/web/packages/ergm/vignettes/ergm.pdf)\n",
        "* Example: [Lessons on exponential random graph modeling from Grey’s Anatomy hook-ups](http://badhessian.org/2012/09/lessons-on-exponential-random-graph-modeling-from-greys-anatomy-hook-ups/)\n"
      ]
    },
    {
      "cell_type": "markdown",
      "metadata": {
        "id": "64qVxVxw38LL",
        "colab_type": "text"
      },
      "source": [
        "[introduction to ergm](https://cran.r-project.org/web/packages/ergm/vignettes/ergm.pdf)\n",
        "1. begin with the simplest possible model, the Bernoulli (aka Erdős–Rényi) model, which contains only an edge term. Example in **pages 4-5**\n",
        "2. Next, examine the influence of triangles on edges, which have positive effect. Moreover, we examine\n",
        "the influence of a feature (wealth) on the edges, using nodecov('wealth'). We can see three * * * near to edges, with positive coefficient. Therefore there is a significant positive wealth effect on the probability of a tie **- pages 5-8**\n",
        "3. Next example with big graphs irrelvant for us.\n",
        "4. Example of simulate: pages 11-13\n",
        "\n",
        "\n",
        "\n",
        "# Todo\n",
        "1. חברי כנסת לא מאותה מפלגה\n",
        "2. אנשים חיצוניים, נתייחס בהמשך העבודה\n",
        "3. לרשום בדו\"ח, שעבדנו מתודולוגית\n"
      ]
    },
    {
      "cell_type": "markdown",
      "metadata": {
        "id": "hpfcX9NnbmIM",
        "colab_type": "text"
      },
      "source": [
        "# Todo gal: add the creation on the network. Eventually, write the data into two files, for each network"
      ]
    },
    {
      "cell_type": "code",
      "metadata": {
        "id": "rJ4wu7_J42TW",
        "colab_type": "code",
        "colab": {
          "base_uri": "https://localhost:8080/",
          "height": 122
        },
        "outputId": "cb1f8fd1-119b-4d3e-80b6-022c64dfa1bf"
      },
      "source": [
        "from google.colab import drive\n",
        "drive.mount('/content/drive')"
      ],
      "execution_count": 4,
      "outputs": [
        {
          "output_type": "stream",
          "text": [
            "Go to this URL in a browser: https://accounts.google.com/o/oauth2/auth?client_id=947318989803-6bn6qk8qdgf4n4g3pfee6491hc0brc4i.apps.googleusercontent.com&redirect_uri=urn%3aietf%3awg%3aoauth%3a2.0%3aoob&response_type=code&scope=email%20https%3a%2f%2fwww.googleapis.com%2fauth%2fdocs.test%20https%3a%2f%2fwww.googleapis.com%2fauth%2fdrive%20https%3a%2f%2fwww.googleapis.com%2fauth%2fdrive.photos.readonly%20https%3a%2f%2fwww.googleapis.com%2fauth%2fpeopleapi.readonly\n",
            "\n",
            "Enter your authorization code:\n",
            "··········\n",
            "Mounted at /content/drive\n"
          ],
          "name": "stdout"
        }
      ]
    },
    {
      "cell_type": "code",
      "metadata": {
        "id": "a3mh8q6i6MOj",
        "colab_type": "code",
        "colab": {
          "base_uri": "https://localhost:8080/",
          "height": 51
        },
        "outputId": "0543f1a3-9289-4f80-b669-b802208a06c1"
      },
      "source": [
        "%load_ext rpy2.ipython\n",
        "%matplotlib inline"
      ],
      "execution_count": 5,
      "outputs": [
        {
          "output_type": "stream",
          "text": [
            "The rpy2.ipython extension is already loaded. To reload it, use:\n",
            "  %reload_ext rpy2.ipython\n"
          ],
          "name": "stdout"
        }
      ]
    },
    {
      "cell_type": "code",
      "metadata": {
        "id": "itW_QW_S6Nha",
        "colab_type": "code",
        "colab": {}
      },
      "source": [
        "%%capture\n",
        "%%R\n",
        "install.packages('network')\n",
        "install.packages('ergm')\n",
        "install.packages('sna')\n",
        "install.packages('coda')\n",
        "library(network)\n",
        "library(ergm)\n",
        "library(sna)\n",
        "library(coda)\n",
        "\n",
        "set.seed(1)"
      ],
      "execution_count": 6,
      "outputs": []
    },
    {
      "cell_type": "code",
      "metadata": {
        "id": "QKjrfhWbCdQ2",
        "colab_type": "code",
        "colab": {}
      },
      "source": [
        "%%R\n",
        "build_network <- function(adj_mat_path, features_path) {\n",
        "    # read the adjacency matrix\n",
        "    ga.mat <- as.matrix(read.table(adj_mat_path, sep=\",\", header=T, row.names=1, quote=\"\\\"\"))\n",
        "\n",
        "    # read the network attributes\n",
        "    ga.atts <- read.table(features_path, sep=\",\", header=T, quote=\"\\\"\", stringsAsFactors=F, strip.white=T, as.is=T)\n",
        "\n",
        "    # create a network object using the adjacency matrix and its corresponding attributes\n",
        "    ga.net <- network(ga.mat, vertex.attr=ga.atts, vertex.attrnames=colnames(ga.atts), directed=T, hyper=F, loops=F, multiple=F, bipartite=F)\n",
        "\n",
        "    return(ga.net)\n",
        "}"
      ],
      "execution_count": 7,
      "outputs": []
    },
    {
      "cell_type": "markdown",
      "metadata": {
        "id": "9TgGTg5Q5_DY",
        "colab_type": "text"
      },
      "source": [
        "# Read data from drive"
      ]
    },
    {
      "cell_type": "code",
      "metadata": {
        "id": "M1UA8XBU6D4O",
        "colab_type": "code",
        "colab": {}
      },
      "source": [
        "%%R\n",
        "# adjacency matrices paths\n",
        "huka_adj_path <- '/content/drive/Shared drives/NLPSD/data/adjacency_matrixes/huka_adj.csv'\n",
        "hutz_bitahon_adj_path <- '/content/drive/Shared drives/NLPSD/data/adjacency_matrixes/hutz_bitahon_adj.csv'\n",
        "knesset_adj_path <- '/content/drive/Shared drives/NLPSD/data/adjacency_matrixes/knesset_adj.csv'\n",
        "ksafim_adj_path <- '/content/drive/Shared drives/NLPSD/data/adjacency_matrixes/ksafim_adj.csv'\n",
        "\n",
        "# feature matrices paths\n",
        "huka_feat_path <- '/content/drive/Shared drives/NLPSD/data/feature_matrixes/huka_feat.csv'\n",
        "hutz_bitahon_feat_path <- '/content/drive/Shared drives/NLPSD/data/feature_matrixes/hutz_bitahon_feat.csv'\n",
        "knesset_feat_path <- '/content/drive/Shared drives/NLPSD/data/feature_matrixes/knesset_feat.csv'\n",
        "ksafim_feat_path <- '/content/drive/Shared drives/NLPSD/data/feature_matrixes/ksafim_feat.csv'"
      ],
      "execution_count": 12,
      "outputs": []
    },
    {
      "cell_type": "code",
      "metadata": {
        "id": "14ETp4noEKEJ",
        "colab_type": "code",
        "colab": {}
      },
      "source": [
        "# build networks\n",
        "%%R\n",
        "huka_net = build_network(huka_adj_path, huka_feat_path)\n",
        "hutz_bitahon_net = build_network(hutz_bitahon_adj_path, hutz_bitahon_feat_path)\n",
        "knesset_net = build_network(knesset_adj_path, knesset_feat_path)\n",
        "ksafim_net = build_network(ksafim_adj_path, ksafim_feat_path)"
      ],
      "execution_count": 16,
      "outputs": []
    },
    {
      "cell_type": "code",
      "metadata": {
        "id": "vcn_nfG3ExUi",
        "colab_type": "code",
        "colab": {}
      },
      "source": [
        "# Todo Gal: plot the networks such that vertex v with higher degree\n",
        "# will be larger. In this way, we will see which member interrupt the most"
      ],
      "execution_count": 19,
      "outputs": []
    },
    {
      "cell_type": "markdown",
      "metadata": {
        "id": "TjYBg01BFumr",
        "colab_type": "text"
      },
      "source": [
        "### We begin with the simplest possible model, the Erdős–Rényi model, which contains only an edge term. Recall that a directed graph with $N$ vertices, has  maximum  $N\\cdot (N-1)$ directed edges."
      ]
    },
    {
      "cell_type": "code",
      "metadata": {
        "id": "JnuMsKteHXG4",
        "colab_type": "code",
        "colab": {
          "base_uri": "https://localhost:8080/",
          "height": 272
        },
        "outputId": "3ad7642e-5964-43c0-9b56-d6e28cc3c085"
      },
      "source": [
        "%%R\n",
        "print(huka_net)"
      ],
      "execution_count": 25,
      "outputs": [
        {
          "output_type": "stream",
          "text": [
            " Network attributes:\n",
            "  vertices = 17 \n",
            "  directed = TRUE \n",
            "  hyper = FALSE \n",
            "  loops = FALSE \n",
            "  multiple = FALSE \n",
            "  bipartite = FALSE \n",
            "  total edges= 35 \n",
            "    missing edges= 0 \n",
            "    non-missing edges= 35 \n",
            "\n",
            " Vertex attribute names: \n",
            "    age faction FirstName FullName gender in_col in_gov KM_id LastName pazam_knesset vertex.names wing \n",
            "\n",
            "No edge attributes\n"
          ],
          "name": "stdout"
        }
      ]
    },
    {
      "cell_type": "code",
      "metadata": {
        "id": "zT1IvXZAz3C5",
        "colab_type": "code",
        "colab": {
          "base_uri": "https://localhost:8080/",
          "height": 561
        },
        "outputId": "a18dc27c-827c-453b-c68f-0371f4bf4f9b"
      },
      "source": [
        "%%R\n",
        "huka_net.01 <- ergm(huka_net ~ edges) # fit model\n",
        "summary(huka_net.01)"
      ],
      "execution_count": 26,
      "outputs": [
        {
          "output_type": "stream",
          "text": [
            "R[write to console]: Starting maximum pseudolikelihood estimation (MPLE):\n",
            "\n",
            "R[write to console]: Evaluating the predictor and response matrix.\n",
            "\n",
            "R[write to console]: Maximizing the pseudolikelihood.\n",
            "\n",
            "R[write to console]: Finished MPLE.\n",
            "\n",
            "R[write to console]: Stopping at the initial estimate.\n",
            "\n",
            "R[write to console]: Evaluating log-likelihood at the estimate. \n",
            "R[write to console]: \n",
            "\n"
          ],
          "name": "stderr"
        },
        {
          "output_type": "stream",
          "text": [
            "\n",
            "==========================\n",
            "Summary of model fit\n",
            "==========================\n",
            "\n",
            "Formula:   huka_net ~ edges\n",
            "\n",
            "Iterations:  5 out of 20 \n",
            "\n",
            "Monte Carlo MLE Results:\n",
            "      Estimate Std. Error MCMC % z value Pr(>|z|)    \n",
            "edges  -1.9127     0.1811      0  -10.56   <1e-04 ***\n",
            "---\n",
            "Signif. codes:  0 ‘***’ 0.001 ‘**’ 0.01 ‘*’ 0.05 ‘.’ 0.1 ‘ ’ 1\n",
            "\n",
            "     Null Deviance: 377.1  on 272  degrees of freedom\n",
            " Residual Deviance: 208.8  on 271  degrees of freedom\n",
            " \n",
            "AIC: 210.8    BIC: 214.4    (Smaller is better.) \n"
          ],
          "name": "stdout"
        }
      ]
    },
    {
      "cell_type": "markdown",
      "metadata": {
        "id": "Zxm7_NO2GJ1q",
        "colab_type": "text"
      },
      "source": [
        "#### Meaning that, the log-odds of any edge occurring is -1.9127. The corresponding probability is $\\frac{e^{-1.9127}}{1+e^{-1.9127}} = 0.128678$, which is what we expect, since there are $\\frac{35}{17 \\cdot 16}$ edges."
      ]
    },
    {
      "cell_type": "markdown",
      "metadata": {
        "id": "bjqoSawVORjR",
        "colab_type": "text"
      },
      "source": [
        "#### Now, we test whether edge probabilities are a function of pazam_knesset:"
      ]
    },
    {
      "cell_type": "code",
      "metadata": {
        "id": "zilklvUSKBEh",
        "colab_type": "code",
        "colab": {}
      },
      "source": [
        "# Gal Todo: add plot with 4 subplots of pazam_knesset distribution in the network."
      ],
      "execution_count": 31,
      "outputs": []
    },
    {
      "cell_type": "code",
      "metadata": {
        "id": "uAEVhCCVPY0y",
        "colab_type": "code",
        "colab": {}
      },
      "source": [
        "%%capture\n",
        "%%R\n",
        "huka_net.pazam <- ergm(huka_net ~ edges + nodecov(\"pazam_knesset\"))\n",
        "hutz_bitahon_net.pazam <- ergm(hutz_bitahon_net ~ edges + nodecov(\"pazam_knesset\"))\n",
        "knesset_net.pazam <- ergm(knesset_net ~ edges + nodecov(\"pazam_knesset\"))\n",
        "ksafim_net.pazam <- ergm(ksafim_net ~ edges + nodecov(\"pazam_knesset\"))"
      ],
      "execution_count": 38,
      "outputs": []
    },
    {
      "cell_type": "code",
      "metadata": {
        "id": "48f2kwimMAsB",
        "colab_type": "code",
        "colab": {
          "base_uri": "https://localhost:8080/",
          "height": 357
        },
        "outputId": "c66b0303-d06f-4cb3-9fa4-092c3f854cdd"
      },
      "source": [
        "%%R\n",
        "print(\"huka_net\")\n",
        "print(huka_net.pazam)\n",
        "print(\"hutz_bitahon_net\")\n",
        "print(hutz_bitahon_net.pazam)\n",
        "print(\"knesset_net\")\n",
        "print(knesset_net.pazam)\n",
        "print(\"ksafim_net\")\n",
        "print(ksafim_net.pazam)\n",
        "\n",
        "# print(summary(huka_net.pazam))\n",
        "# print(summary(hutz_bitahon_net.pazam))\n",
        "# print(summary(knesset_net.pazam))\n",
        "# print(summary(ksafim_net.pazam))"
      ],
      "execution_count": 60,
      "outputs": [
        {
          "output_type": "stream",
          "text": [
            "[1] \"huka_net\"\n",
            "\n",
            "MLE Coefficients:\n",
            "                edges  nodecov.pazam_knesset  \n",
            "              -3.6872                 0.2118  \n",
            "[1] \"hutz_bitahon_net\"\n",
            "\n",
            "MLE Coefficients:\n",
            "                edges  nodecov.pazam_knesset  \n",
            "               0.5942                -0.2813  \n",
            "[1] \"knesset_net\"\n",
            "\n",
            "MLE Coefficients:\n",
            "                edges  nodecov.pazam_knesset  \n",
            "             -1.98255                0.01736  \n",
            "[1] \"ksafim_net\"\n",
            "\n",
            "MLE Coefficients:\n",
            "                edges  nodecov.pazam_knesset  \n",
            "              -4.2903                 0.2689  \n"
          ],
          "name": "stdout"
        }
      ]
    },
    {
      "cell_type": "markdown",
      "metadata": {
        "id": "GmM-ONC3OTXa",
        "colab_type": "text"
      },
      "source": [
        "# ==== Todo Conclusions 1 ===="
      ]
    },
    {
      "cell_type": "markdown",
      "metadata": {
        "id": "S-7jbLhZNROX",
        "colab_type": "text"
      },
      "source": [
        "\n",
        "\n",
        "#### Next, we examine if two Knesset members within the same faction tend to   interrupt each other:"
      ]
    },
    {
      "cell_type": "code",
      "metadata": {
        "id": "3ew_pUbEOurF",
        "colab_type": "code",
        "colab": {}
      },
      "source": [
        "# Gal Todo: some other 4 subplots about the faction. For example, \n",
        "# distribtuon of factions in the network, along with the number of interruptions \n",
        "# of two members in the same faction"
      ],
      "execution_count": 46,
      "outputs": []
    },
    {
      "cell_type": "code",
      "metadata": {
        "id": "H64SVJyJPVQT",
        "colab_type": "code",
        "colab": {}
      },
      "source": [
        "%%capture\n",
        "%%R\n",
        "huka_net.faction <- ergm(huka_net ~ edges + nodematch(\"faction\"))\n",
        "hutz_bitahon_net.faction <- ergm(hutz_bitahon_net ~ edges + nodematch(\"faction\"))\n",
        "knesset_net.faction <- ergm(knesset_net ~ edges + nodematch(\"faction\"))\n",
        "ksafim_net.faction <- ergm(ksafim_net ~ edges + nodematch(\"faction\"))"
      ],
      "execution_count": 47,
      "outputs": []
    },
    {
      "cell_type": "code",
      "metadata": {
        "id": "AOXlwyq76YBU",
        "colab_type": "code",
        "colab": {
          "base_uri": "https://localhost:8080/",
          "height": 289
        },
        "outputId": "3eda4727-596f-4c57-a545-1e67dd9cb7ae"
      },
      "source": [
        "%%R\n",
        "print(huka_net.faction)\n",
        "print(hutz_bitahon_net.faction)\n",
        "print(knesset_net.faction)\n",
        "print(ksafim_net.faction)\n",
        "\n",
        "# print(summary(huka_net.faction))\n",
        "# print(summary(hutz_bitahon_net.faction))\n",
        "# print(summary(knesset_net.faction))\n",
        "# print(summary(ksafim_net.faction))"
      ],
      "execution_count": 50,
      "outputs": [
        {
          "output_type": "stream",
          "text": [
            "\n",
            "MLE Coefficients:\n",
            "            edges  nodematch.faction  \n",
            "           -2.102              1.409  \n",
            "\n",
            "MLE Coefficients:\n",
            "            edges  nodematch.faction  \n",
            "           -1.228               -Inf  \n",
            "\n",
            "MLE Coefficients:\n",
            "            edges  nodematch.faction  \n",
            "           -1.796             -0.912  \n",
            "\n",
            "MLE Coefficients:\n",
            "            edges  nodematch.faction  \n",
            "           -1.695             -1.250  \n"
          ],
          "name": "stdout"
        }
      ]
    },
    {
      "cell_type": "markdown",
      "metadata": {
        "id": "SBaV-6GHXf10",
        "colab_type": "text"
      },
      "source": [
        "#### Let's look more in depth:"
      ]
    },
    {
      "cell_type": "code",
      "metadata": {
        "id": "vlZyJOLTXm5Q",
        "colab_type": "code",
        "colab": {
          "base_uri": "https://localhost:8080/",
          "height": 1000
        },
        "outputId": "9efc0987-60fe-4a6a-e6fd-caa71b86a039"
      },
      "source": [
        "%%R\n",
        "huka_net.faction2 <- ergm(huka_net ~ edges + nodematch('faction', diff=T))\n",
        "summary(huka_net.faction2)"
      ],
      "execution_count": 55,
      "outputs": [
        {
          "output_type": "stream",
          "text": [
            "R[write to console]: Observed statistic(s) nodematch.faction.הליכוד, nodematch.faction.העבודה, nodematch.faction.הרשימה המשותפת, nodematch.faction.ישראל ביתנו, nodematch.faction.כחול לבן, nodematch.faction.מרצ, and nodematch.faction.שס are at their smallest attainable values. Their coefficients will be fixed at -Inf.\n",
            "\n",
            "R[write to console]: Starting maximum pseudolikelihood estimation (MPLE):\n",
            "\n",
            "R[write to console]: Evaluating the predictor and response matrix.\n",
            "\n",
            "R[write to console]: Maximizing the pseudolikelihood.\n",
            "\n",
            "R[write to console]: Finished MPLE.\n",
            "\n",
            "R[write to console]: Stopping at the initial estimate.\n",
            "\n",
            "R[write to console]: Evaluating log-likelihood at the estimate. \n",
            "R[write to console]: \n",
            "\n"
          ],
          "name": "stderr"
        },
        {
          "output_type": "stream",
          "text": [
            "\n",
            "==========================\n",
            "Summary of model fit\n",
            "==========================\n",
            "\n",
            "Formula:   huka_net ~ edges + nodematch(\"faction\", diff = T)\n",
            "\n",
            "Iterations:  5 out of 20 \n",
            "\n",
            "Monte Carlo MLE Results:\n",
            "                                 Estimate Std. Error MCMC % z value Pr(>|z|)\n",
            "edges                             -2.1023     0.2039      0 -10.313  < 1e-04\n",
            "nodematch.faction.הליכוד             -Inf     0.0000      0    -Inf  < 1e-04\n",
            "nodematch.faction.העבודה             -Inf     0.0000      0    -Inf  < 1e-04\n",
            "nodematch.faction.הרשימה המשותפת     -Inf     0.0000      0    -Inf  < 1e-04\n",
            "nodematch.faction.יהדות התורה      2.7955     0.8897      0   3.142  0.00168\n",
            "nodematch.faction.יש עתיד          1.4092     0.6454      0   2.183  0.02901\n",
            "nodematch.faction.ישראל ביתנו        -Inf     0.0000      0    -Inf  < 1e-04\n",
            "nodematch.faction.כחול לבן           -Inf     0.0000      0    -Inf  < 1e-04\n",
            "nodematch.faction.מרצ                -Inf     0.0000      0    -Inf  < 1e-04\n",
            "nodematch.faction.שס                 -Inf     0.0000      0    -Inf  < 1e-04\n",
            "                                    \n",
            "edges                            ***\n",
            "nodematch.faction.הליכוד         ***\n",
            "nodematch.faction.העבודה         ***\n",
            "nodematch.faction.הרשימה המשותפת ***\n",
            "nodematch.faction.יהדות התורה    ** \n",
            "nodematch.faction.יש עתיד        *  \n",
            "nodematch.faction.ישראל ביתנו    ***\n",
            "nodematch.faction.כחול לבן       ***\n",
            "nodematch.faction.מרצ            ***\n",
            "nodematch.faction.שס             ***\n",
            "---\n",
            "Signif. codes:  0 ‘***’ 0.001 ‘**’ 0.01 ‘*’ 0.05 ‘.’ 0.1 ‘ ’ 1\n",
            "\n",
            "     Null Deviance: 377.1  on 272  degrees of freedom\n",
            " Residual Deviance: 201.9  on 262  degrees of freedom\n",
            " \n",
            "AIC: 221.9    BIC: 258    (Smaller is better.) \n",
            "\n",
            " Warning: The following terms have infinite coefficient estimates:\n",
            "  nodematch.faction.הליכוד nodematch.faction.העבודה nodematch.faction.הרשימה המשותפת nodematch.faction.ישראל ביתנו nodematch.faction.כחול לבן nodematch.faction.מרצ nodematch.faction.שס \n"
          ],
          "name": "stdout"
        }
      ]
    },
    {
      "cell_type": "code",
      "metadata": {
        "id": "c_ikhVg6PpoP",
        "colab_type": "code",
        "colab": {}
      },
      "source": [
        "# ==== Todo Conclusions 2 ===="
      ],
      "execution_count": 51,
      "outputs": []
    },
    {
      "cell_type": "code",
      "metadata": {
        "id": "udhccj6f8m1v",
        "colab_type": "code",
        "colab": {
          "base_uri": "https://localhost:8080/",
          "height": 247
        },
        "outputId": "ba4e3828-0f2d-44db-dea7-be42b601ab11"
      },
      "source": [
        "%%R\n",
        "data(florentine)\n",
        "flomodel.03 <- ergm(flomarriage~edges+nodecov('wealth'))\n",
        "\n",
        "flomodel.03.sim <- simulate(flomodel.03,nsim=10)"
      ],
      "execution_count": null,
      "outputs": [
        {
          "output_type": "stream",
          "text": [
            "R[write to console]: Starting maximum pseudolikelihood estimation (MPLE):\n",
            "\n",
            "R[write to console]: Evaluating the predictor and response matrix.\n",
            "\n",
            "R[write to console]: Maximizing the pseudolikelihood.\n",
            "\n",
            "R[write to console]: Finished MPLE.\n",
            "\n",
            "R[write to console]: Stopping at the initial estimate.\n",
            "\n",
            "R[write to console]: Evaluating log-likelihood at the estimate. \n",
            "R[write to console]: \n",
            "\n"
          ],
          "name": "stderr"
        }
      ]
    },
    {
      "cell_type": "code",
      "metadata": {
        "id": "wUwsbrUhBQ4B",
        "colab_type": "code",
        "colab": {
          "base_uri": "https://localhost:8080/",
          "height": 587
        },
        "outputId": "1b8f3a38-d22e-44f0-b6e6-84b2f3b29dbb"
      },
      "source": [
        "%%R\n",
        "summary(flomodel.03.sim)"
      ],
      "execution_count": null,
      "outputs": [
        {
          "output_type": "stream",
          "text": [
            "Number of Networks: 10 \n",
            "Model: flomarriage ~ edges + nodecov(\"wealth\") \n",
            "Reference: ~Bernoulli \n",
            "Constraints: TNT NULL 16   , 1    , 15   , 2    , 14   , 3    , 13   , 4    , 12   , 5    , 11   , 6    , 10   , 7    , 9    , 8    , 8    , 9    , 7    , 10   , 6    , 11   , 5    , 12   , 4    , 13   , 3    , 14   , 2    , 15   , 1    , FALSE, TRUE , FALSE, TRUE , FALSE, TRUE , FALSE, TRUE , FALSE, TRUE , FALSE, TRUE , FALSE, TRUE , FALSE, TRUE , FALSE, TRUE , FALSE, TRUE , FALSE, TRUE , FALSE, TRUE , FALSE, TRUE , FALSE, TRUE , FALSE, TRUE , FALSE, FALSE, 1    , FALSE, FALSE Bernoulli, MPLE     , CD       , zeros     ergm \n",
            "Parameters:\n",
            "         edges nodecov.wealth \n",
            "   -2.59492903     0.01054591 \n",
            "\n",
            "Stored network statistics:\n",
            "      edges nodecov.wealth\n",
            " [1,]    19           1940\n",
            " [2,]    18           1721\n",
            " [3,]    21           2248\n",
            " [4,]    13           1626\n",
            " [5,]    24           2503\n",
            " [6,]    18           2251\n",
            " [7,]    22           1814\n",
            " [8,]    14           1561\n",
            " [9,]    18           1785\n",
            "[10,]    21           2268\n",
            "attr(,\"monitored\")\n",
            "[1] FALSE FALSE\n",
            "\n",
            "Number of Networks: 10 \n",
            "Model: flomarriage ~ edges + nodecov(\"wealth\") \n",
            "Reference: ~Bernoulli \n",
            "Constraints: TNT NULL 16   , 1    , 15   , 2    , 14   , 3    , 13   , 4    , 12   , 5    , 11   , 6    , 10   , 7    , 9    , 8    , 8    , 9    , 7    , 10   , 6    , 11   , 5    , 12   , 4    , 13   , 3    , 14   , 2    , 15   , 1    , FALSE, TRUE , FALSE, TRUE , FALSE, TRUE , FALSE, TRUE , FALSE, TRUE , FALSE, TRUE , FALSE, TRUE , FALSE, TRUE , FALSE, TRUE , FALSE, TRUE , FALSE, TRUE , FALSE, TRUE , FALSE, TRUE , FALSE, TRUE , FALSE, TRUE , FALSE, FALSE, 1    , FALSE, FALSE Bernoulli, MPLE     , CD       , zeros     ergm \n",
            "Parameters:\n",
            "         edges nodecov.wealth \n",
            "   -2.59492903     0.01054591 \n",
            "\n"
          ],
          "name": "stdout"
        }
      ]
    },
    {
      "cell_type": "code",
      "metadata": {
        "id": "aljj8x-i_yOi",
        "colab_type": "code",
        "colab": {
          "base_uri": "https://localhost:8080/",
          "height": 496
        },
        "outputId": "4795bd8b-5122-4a07-ad1e-ad61f418de84"
      },
      "source": [
        "%%R\n",
        "plot(flomodel.03.sim[[3]], label= flomodel.03.sim[[3]] %v% \"vertex.names\")"
      ],
      "execution_count": null,
      "outputs": [
        {
          "output_type": "display_data",
          "data": {
            "image/png": "[encoded data removed]"
          },
          "metadata": {
            "tags": []
          }
        }
      ]
    }
  ]
}